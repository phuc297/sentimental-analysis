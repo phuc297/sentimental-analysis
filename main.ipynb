{
 "cells": [
  {
   "cell_type": "markdown",
   "metadata": {},
   "source": [
    "# I. Import thư viện"
   ]
  },
  {
   "cell_type": "code",
   "execution_count": 1,
   "metadata": {},
   "outputs": [],
   "source": [
    "import pandas as pd\n",
    "import warnings\n",
    "warnings.filterwarnings('ignore')\n",
    "import string\n",
    "import seaborn as sns\n",
    "from sklearn.feature_extraction.text import CountVectorizer\n",
    "from nltk.tokenize import RegexpTokenizer\n",
    "from underthesea import word_tokenize\n",
    "from collections import Counter\n",
    "from sklearn.preprocessing import LabelEncoder\n",
    "from sklearn.model_selection import train_test_split\n",
    "from sklearn.naive_bayes import MultinomialNB\n",
    "from sklearn.metrics import classification_report, confusion_matrix\n",
    "from sklearn import metrics\n",
    "from sklearn.feature_extraction.text import TfidfVectorizer\n",
    "from sklearn.linear_model import LogisticRegression\n",
    "from sklearn.ensemble import RandomForestClassifier\n",
    "from sklearn.tree import DecisionTreeClassifier\n",
    "from sklearn import svm\n",
    "from sklearn.model_selection import train_test_split\n",
    "from sklearn.model_selection import StratifiedKFold\n",
    "from sklearn.linear_model  import LogisticRegression\n",
    "from sklearn.neighbors import KNeighborsClassifier\n",
    "from sklearn.ensemble import RandomForestClassifier, GradientBoostingClassifier, AdaBoostClassifier\n",
    "from sklearn import neighbors\n",
    "from lightgbm import LGBMClassifier\n",
    "from xgboost import XGBClassifier\n",
    "from catboost import CatBoostClassifier\n",
    "from sklearn import tree\n",
    "from sklearn.svm import SVC\n",
    "from sklearn import naive_bayes\n",
    "import matplotlib.pyplot as plt\n",
    "import numpy as np"
   ]
  },
  {
   "cell_type": "markdown",
   "metadata": {},
   "source": [
    "# II. Đọc dữ liệu"
   ]
  },
  {
   "cell_type": "code",
   "execution_count": 2,
   "metadata": {},
   "outputs": [
    {
     "data": {
      "text/html": [
       "<div>\n",
       "<style scoped>\n",
       "    .dataframe tbody tr th:only-of-type {\n",
       "        vertical-align: middle;\n",
       "    }\n",
       "\n",
       "    .dataframe tbody tr th {\n",
       "        vertical-align: top;\n",
       "    }\n",
       "\n",
       "    .dataframe thead th {\n",
       "        text-align: right;\n",
       "    }\n",
       "</style>\n",
       "<table border=\"1\" class=\"dataframe\">\n",
       "  <thead>\n",
       "    <tr style=\"text-align: right;\">\n",
       "      <th></th>\n",
       "      <th>sent</th>\n",
       "      <th>sentiment</th>\n",
       "    </tr>\n",
       "  </thead>\n",
       "  <tbody>\n",
       "    <tr>\n",
       "      <th>0</th>\n",
       "      <td>slide giáo trình đầy đủ .</td>\n",
       "      <td>postive</td>\n",
       "    </tr>\n",
       "    <tr>\n",
       "      <th>1</th>\n",
       "      <td>nhiệt tình giảng dạy , gần gũi với sinh viên .</td>\n",
       "      <td>postive</td>\n",
       "    </tr>\n",
       "    <tr>\n",
       "      <th>2</th>\n",
       "      <td>đi học đầy đủ full điểm chuyên cần .</td>\n",
       "      <td>negative</td>\n",
       "    </tr>\n",
       "    <tr>\n",
       "      <th>3</th>\n",
       "      <td>chưa áp dụng công nghệ thông tin và các thiết ...</td>\n",
       "      <td>negative</td>\n",
       "    </tr>\n",
       "    <tr>\n",
       "      <th>4</th>\n",
       "      <td>thầy giảng bài hay , có nhiều bài tập ví dụ ng...</td>\n",
       "      <td>postive</td>\n",
       "    </tr>\n",
       "  </tbody>\n",
       "</table>\n",
       "</div>"
      ],
      "text/plain": [
       "                                                sent sentiment\n",
       "0                          slide giáo trình đầy đủ .   postive\n",
       "1     nhiệt tình giảng dạy , gần gũi với sinh viên .   postive\n",
       "2               đi học đầy đủ full điểm chuyên cần .  negative\n",
       "3  chưa áp dụng công nghệ thông tin và các thiết ...  negative\n",
       "4  thầy giảng bài hay , có nhiều bài tập ví dụ ng...   postive"
      ]
     },
     "execution_count": 2,
     "metadata": {},
     "output_type": "execute_result"
    }
   ],
   "source": [
    "data =  pd.read_csv(\"data/data.csv\")\n",
    "data.head()"
   ]
  },
  {
   "cell_type": "code",
   "execution_count": 3,
   "metadata": {},
   "outputs": [],
   "source": [
    "data.isna().sum()\n",
    "data=data.dropna()"
   ]
  },
  {
   "cell_type": "markdown",
   "metadata": {},
   "source": [
    "# III. Phân bố dữ liệu"
   ]
  },
  {
   "cell_type": "code",
   "execution_count": 4,
   "metadata": {},
   "outputs": [],
   "source": [
    "class_count=data['sentiment'].value_counts()\n",
    "class_count =[class_count['negative'],class_count['neutral'],class_count['postive']]"
   ]
  },
  {
   "cell_type": "code",
   "execution_count": 5,
   "metadata": {},
   "outputs": [
    {
     "data": {
      "image/png": "[encoded data removed]",
      "text/plain": [
       "<Figure size 640x480 with 1 Axes>"
      ]
     },
     "metadata": {},
     "output_type": "display_data"
    }
   ],
   "source": [
    "ax=sns.barplot(x=['negative','neutral','positive'], y=class_count, )\n",
    "sum = class_count[0]+class_count[1]+class_count[2]\n",
    "# Thêm chú thích trên từng cột\n",
    "for i, value in enumerate(class_count):\n",
    "    ax.text(i, value + 1, str(round(value/sum*100,2))+'%', ha='center', va='bottom')"
   ]
  },
  {
   "cell_type": "markdown",
   "metadata": {},
   "source": [
    "# IV. Tiền xử lý dữ liệu"
   ]
  },
  {
   "cell_type": "markdown",
   "metadata": {},
   "source": [
    "## 1. Làm sạch dữ liệu"
   ]
  },
  {
   "cell_type": "code",
   "execution_count": 6,
   "metadata": {},
   "outputs": [],
   "source": [
    "import re\n",
    "def cleaning(text):        \n",
    "    # converting to lowercase, removing URL links, special characters, punctuations...\n",
    "    text = str(text)\n",
    "    text = text.lower() # converting to lowercase\n",
    "    text = re.sub('https?://\\S+|www\\.\\S+', '', text) # removing URL links\n",
    "    text = re.sub(r\"\\b\\d+\\b\", \"\", text) # removing number \n",
    "    text = re.sub('<.*?>+', '', text) # removing special characters, \n",
    "    text = re.sub('[%s]' % re.escape(string.punctuation), '', text) # punctuations\n",
    "    text = re.sub('\\n', '', text)\n",
    "    text = re.sub('[’“”…]', '', text)\n",
    "\n",
    "    emoji_pattern = re.compile(\"[\"\n",
    "                           u\"\\U0001F600-\\U0001F64F\"  # emoticons\n",
    "                           u\"\\U0001F300-\\U0001F5FF\"  # symbols & pictographs\n",
    "                           u\"\\U0001F680-\\U0001F6FF\"  # transport & map symbols\n",
    "                           u\"\\U0001F1E0-\\U0001F1FF\"  # flags (iOS)\n",
    "                           u\"\\U00002702-\\U000027B0\"\n",
    "                           u\"\\U000024C2-\\U0001F251\"\n",
    "                           \"]+\", flags=re.UNICODE)\n",
    "    text = emoji_pattern.sub(r'', text)   \n",
    "    \n",
    "    return text"
   ]
  },
  {
   "cell_type": "code",
   "execution_count": 7,
   "metadata": {},
   "outputs": [
    {
     "data": {
      "text/html": [
       "<div>\n",
       "<style scoped>\n",
       "    .dataframe tbody tr th:only-of-type {\n",
       "        vertical-align: middle;\n",
       "    }\n",
       "\n",
       "    .dataframe tbody tr th {\n",
       "        vertical-align: top;\n",
       "    }\n",
       "\n",
       "    .dataframe thead th {\n",
       "        text-align: right;\n",
       "    }\n",
       "</style>\n",
       "<table border=\"1\" class=\"dataframe\">\n",
       "  <thead>\n",
       "    <tr style=\"text-align: right;\">\n",
       "      <th></th>\n",
       "      <th>sent</th>\n",
       "      <th>sentiment</th>\n",
       "      <th>sent_clean</th>\n",
       "    </tr>\n",
       "  </thead>\n",
       "  <tbody>\n",
       "    <tr>\n",
       "      <th>0</th>\n",
       "      <td>slide giáo trình đầy đủ .</td>\n",
       "      <td>postive</td>\n",
       "      <td>slide giáo trình đầy đủ</td>\n",
       "    </tr>\n",
       "    <tr>\n",
       "      <th>1</th>\n",
       "      <td>nhiệt tình giảng dạy , gần gũi với sinh viên .</td>\n",
       "      <td>postive</td>\n",
       "      <td>nhiệt tình giảng dạy  gần gũi với sinh viên</td>\n",
       "    </tr>\n",
       "    <tr>\n",
       "      <th>2</th>\n",
       "      <td>đi học đầy đủ full điểm chuyên cần .</td>\n",
       "      <td>negative</td>\n",
       "      <td>đi học đầy đủ full điểm chuyên cần</td>\n",
       "    </tr>\n",
       "    <tr>\n",
       "      <th>3</th>\n",
       "      <td>chưa áp dụng công nghệ thông tin và các thiết ...</td>\n",
       "      <td>negative</td>\n",
       "      <td>chưa áp dụng công nghệ thông tin và các thiết ...</td>\n",
       "    </tr>\n",
       "    <tr>\n",
       "      <th>4</th>\n",
       "      <td>thầy giảng bài hay , có nhiều bài tập ví dụ ng...</td>\n",
       "      <td>postive</td>\n",
       "      <td>thầy giảng bài hay  có nhiều bài tập ví dụ nga...</td>\n",
       "    </tr>\n",
       "    <tr>\n",
       "      <th>...</th>\n",
       "      <td>...</td>\n",
       "      <td>...</td>\n",
       "      <td>...</td>\n",
       "    </tr>\n",
       "    <tr>\n",
       "      <th>16172</th>\n",
       "      <td>hướng dẫn lab mơ hồ .</td>\n",
       "      <td>negative</td>\n",
       "      <td>hướng dẫn lab mơ hồ</td>\n",
       "    </tr>\n",
       "    <tr>\n",
       "      <th>16173</th>\n",
       "      <td>thầy cho chúng em những bài tập mang tính thực...</td>\n",
       "      <td>postive</td>\n",
       "      <td>thầy cho chúng em những bài tập mang tính thực...</td>\n",
       "    </tr>\n",
       "    <tr>\n",
       "      <th>16174</th>\n",
       "      <td>thầy không dạy nhiều chủ yếu cho sinh viên tự ...</td>\n",
       "      <td>negative</td>\n",
       "      <td>thầy không dạy nhiều chủ yếu cho sinh viên tự ...</td>\n",
       "    </tr>\n",
       "    <tr>\n",
       "      <th>16175</th>\n",
       "      <td>em muốn đổi tên môn học vì tên môn là lập trìn...</td>\n",
       "      <td>negative</td>\n",
       "      <td>em muốn đổi tên môn học vì tên môn là lập trìn...</td>\n",
       "    </tr>\n",
       "    <tr>\n",
       "      <th>16176</th>\n",
       "      <td>thầy vừa dạy vừa chat hoặc gọi điện thoại thườ...</td>\n",
       "      <td>negative</td>\n",
       "      <td>thầy vừa dạy vừa chat hoặc gọi điện thoại thườ...</td>\n",
       "    </tr>\n",
       "  </tbody>\n",
       "</table>\n",
       "<p>16175 rows × 3 columns</p>\n",
       "</div>"
      ],
      "text/plain": [
       "                                                    sent sentiment  \\\n",
       "0                              slide giáo trình đầy đủ .   postive   \n",
       "1         nhiệt tình giảng dạy , gần gũi với sinh viên .   postive   \n",
       "2                   đi học đầy đủ full điểm chuyên cần .  negative   \n",
       "3      chưa áp dụng công nghệ thông tin và các thiết ...  negative   \n",
       "4      thầy giảng bài hay , có nhiều bài tập ví dụ ng...   postive   \n",
       "...                                                  ...       ...   \n",
       "16172                              hướng dẫn lab mơ hồ .  negative   \n",
       "16173  thầy cho chúng em những bài tập mang tính thực...   postive   \n",
       "16174  thầy không dạy nhiều chủ yếu cho sinh viên tự ...  negative   \n",
       "16175  em muốn đổi tên môn học vì tên môn là lập trìn...  negative   \n",
       "16176  thầy vừa dạy vừa chat hoặc gọi điện thoại thườ...  negative   \n",
       "\n",
       "                                              sent_clean  \n",
       "0                               slide giáo trình đầy đủ   \n",
       "1           nhiệt tình giảng dạy  gần gũi với sinh viên   \n",
       "2                    đi học đầy đủ full điểm chuyên cần   \n",
       "3      chưa áp dụng công nghệ thông tin và các thiết ...  \n",
       "4      thầy giảng bài hay  có nhiều bài tập ví dụ nga...  \n",
       "...                                                  ...  \n",
       "16172                               hướng dẫn lab mơ hồ   \n",
       "16173  thầy cho chúng em những bài tập mang tính thực...  \n",
       "16174  thầy không dạy nhiều chủ yếu cho sinh viên tự ...  \n",
       "16175  em muốn đổi tên môn học vì tên môn là lập trìn...  \n",
       "16176  thầy vừa dạy vừa chat hoặc gọi điện thoại thườ...  \n",
       "\n",
       "[16175 rows x 3 columns]"
      ]
     },
     "execution_count": 7,
     "metadata": {},
     "output_type": "execute_result"
    }
   ],
   "source": [
    "data['sent_clean'] = data['sent'].apply(cleaning)\n",
    "data"
   ]
  },
  {
   "cell_type": "markdown",
   "metadata": {},
   "source": [
    "## 2. Tách từ (word tokenize)"
   ]
  },
  {
   "cell_type": "code",
   "execution_count": 8,
   "metadata": {},
   "outputs": [
    {
     "data": {
      "text/html": [
       "<div>\n",
       "<style scoped>\n",
       "    .dataframe tbody tr th:only-of-type {\n",
       "        vertical-align: middle;\n",
       "    }\n",
       "\n",
       "    .dataframe tbody tr th {\n",
       "        vertical-align: top;\n",
       "    }\n",
       "\n",
       "    .dataframe thead th {\n",
       "        text-align: right;\n",
       "    }\n",
       "</style>\n",
       "<table border=\"1\" class=\"dataframe\">\n",
       "  <thead>\n",
       "    <tr style=\"text-align: right;\">\n",
       "      <th></th>\n",
       "      <th>sent</th>\n",
       "      <th>sentiment</th>\n",
       "      <th>sent_clean</th>\n",
       "      <th>sent_clean_tokenize</th>\n",
       "    </tr>\n",
       "  </thead>\n",
       "  <tbody>\n",
       "    <tr>\n",
       "      <th>0</th>\n",
       "      <td>slide giáo trình đầy đủ .</td>\n",
       "      <td>postive</td>\n",
       "      <td>slide giáo trình đầy đủ</td>\n",
       "      <td>slide giáo_trình đầy_đủ</td>\n",
       "    </tr>\n",
       "    <tr>\n",
       "      <th>1</th>\n",
       "      <td>nhiệt tình giảng dạy , gần gũi với sinh viên .</td>\n",
       "      <td>postive</td>\n",
       "      <td>nhiệt tình giảng dạy  gần gũi với sinh viên</td>\n",
       "      <td>nhiệt_tình giảng_dạy gần_gũi với sinh_viên</td>\n",
       "    </tr>\n",
       "    <tr>\n",
       "      <th>2</th>\n",
       "      <td>đi học đầy đủ full điểm chuyên cần .</td>\n",
       "      <td>negative</td>\n",
       "      <td>đi học đầy đủ full điểm chuyên cần</td>\n",
       "      <td>đi học đầy_đủ full_điểm chuyên cần</td>\n",
       "    </tr>\n",
       "    <tr>\n",
       "      <th>3</th>\n",
       "      <td>chưa áp dụng công nghệ thông tin và các thiết ...</td>\n",
       "      <td>negative</td>\n",
       "      <td>chưa áp dụng công nghệ thông tin và các thiết ...</td>\n",
       "      <td>chưa áp_dụng công_nghệ_thông_tin và các thiết_...</td>\n",
       "    </tr>\n",
       "    <tr>\n",
       "      <th>4</th>\n",
       "      <td>thầy giảng bài hay , có nhiều bài tập ví dụ ng...</td>\n",
       "      <td>postive</td>\n",
       "      <td>thầy giảng bài hay  có nhiều bài tập ví dụ nga...</td>\n",
       "      <td>thầy giảng bài hay có nhiều bài_tập ví_dụ ngay...</td>\n",
       "    </tr>\n",
       "    <tr>\n",
       "      <th>...</th>\n",
       "      <td>...</td>\n",
       "      <td>...</td>\n",
       "      <td>...</td>\n",
       "      <td>...</td>\n",
       "    </tr>\n",
       "    <tr>\n",
       "      <th>16172</th>\n",
       "      <td>hướng dẫn lab mơ hồ .</td>\n",
       "      <td>negative</td>\n",
       "      <td>hướng dẫn lab mơ hồ</td>\n",
       "      <td>hướng_dẫn lab mơ_hồ</td>\n",
       "    </tr>\n",
       "    <tr>\n",
       "      <th>16173</th>\n",
       "      <td>thầy cho chúng em những bài tập mang tính thực...</td>\n",
       "      <td>postive</td>\n",
       "      <td>thầy cho chúng em những bài tập mang tính thực...</td>\n",
       "      <td>thầy cho chúng_em những bài_tập mang tính thực...</td>\n",
       "    </tr>\n",
       "    <tr>\n",
       "      <th>16174</th>\n",
       "      <td>thầy không dạy nhiều chủ yếu cho sinh viên tự ...</td>\n",
       "      <td>negative</td>\n",
       "      <td>thầy không dạy nhiều chủ yếu cho sinh viên tự ...</td>\n",
       "      <td>thầy không dạy nhiều chủ_yếu cho sinh_viên tự ...</td>\n",
       "    </tr>\n",
       "    <tr>\n",
       "      <th>16175</th>\n",
       "      <td>em muốn đổi tên môn học vì tên môn là lập trìn...</td>\n",
       "      <td>negative</td>\n",
       "      <td>em muốn đổi tên môn học vì tên môn là lập trìn...</td>\n",
       "      <td>em muốn đổi tên môn_học vì tên môn là lập_trìn...</td>\n",
       "    </tr>\n",
       "    <tr>\n",
       "      <th>16176</th>\n",
       "      <td>thầy vừa dạy vừa chat hoặc gọi điện thoại thườ...</td>\n",
       "      <td>negative</td>\n",
       "      <td>thầy vừa dạy vừa chat hoặc gọi điện thoại thườ...</td>\n",
       "      <td>thầy vừa dạy vừa chat hoặc gọi điện_thoại thườ...</td>\n",
       "    </tr>\n",
       "  </tbody>\n",
       "</table>\n",
       "<p>16175 rows × 4 columns</p>\n",
       "</div>"
      ],
      "text/plain": [
       "                                                    sent sentiment  \\\n",
       "0                              slide giáo trình đầy đủ .   postive   \n",
       "1         nhiệt tình giảng dạy , gần gũi với sinh viên .   postive   \n",
       "2                   đi học đầy đủ full điểm chuyên cần .  negative   \n",
       "3      chưa áp dụng công nghệ thông tin và các thiết ...  negative   \n",
       "4      thầy giảng bài hay , có nhiều bài tập ví dụ ng...   postive   \n",
       "...                                                  ...       ...   \n",
       "16172                              hướng dẫn lab mơ hồ .  negative   \n",
       "16173  thầy cho chúng em những bài tập mang tính thực...   postive   \n",
       "16174  thầy không dạy nhiều chủ yếu cho sinh viên tự ...  negative   \n",
       "16175  em muốn đổi tên môn học vì tên môn là lập trìn...  negative   \n",
       "16176  thầy vừa dạy vừa chat hoặc gọi điện thoại thườ...  negative   \n",
       "\n",
       "                                              sent_clean  \\\n",
       "0                               slide giáo trình đầy đủ    \n",
       "1           nhiệt tình giảng dạy  gần gũi với sinh viên    \n",
       "2                    đi học đầy đủ full điểm chuyên cần    \n",
       "3      chưa áp dụng công nghệ thông tin và các thiết ...   \n",
       "4      thầy giảng bài hay  có nhiều bài tập ví dụ nga...   \n",
       "...                                                  ...   \n",
       "16172                               hướng dẫn lab mơ hồ    \n",
       "16173  thầy cho chúng em những bài tập mang tính thực...   \n",
       "16174  thầy không dạy nhiều chủ yếu cho sinh viên tự ...   \n",
       "16175  em muốn đổi tên môn học vì tên môn là lập trìn...   \n",
       "16176  thầy vừa dạy vừa chat hoặc gọi điện thoại thườ...   \n",
       "\n",
       "                                     sent_clean_tokenize  \n",
       "0                                slide giáo_trình đầy_đủ  \n",
       "1             nhiệt_tình giảng_dạy gần_gũi với sinh_viên  \n",
       "2                     đi học đầy_đủ full_điểm chuyên cần  \n",
       "3      chưa áp_dụng công_nghệ_thông_tin và các thiết_...  \n",
       "4      thầy giảng bài hay có nhiều bài_tập ví_dụ ngay...  \n",
       "...                                                  ...  \n",
       "16172                                hướng_dẫn lab mơ_hồ  \n",
       "16173  thầy cho chúng_em những bài_tập mang tính thực...  \n",
       "16174  thầy không dạy nhiều chủ_yếu cho sinh_viên tự ...  \n",
       "16175  em muốn đổi tên môn_học vì tên môn là lập_trìn...  \n",
       "16176  thầy vừa dạy vừa chat hoặc gọi điện_thoại thườ...  \n",
       "\n",
       "[16175 rows x 4 columns]"
      ]
     },
     "execution_count": 8,
     "metadata": {},
     "output_type": "execute_result"
    }
   ],
   "source": [
    "data['sent_clean_tokenize']=data['sent_clean'].apply(lambda text: word_tokenize(text,format=\"text\"))\n",
    "data"
   ]
  },
  {
   "cell_type": "markdown",
   "metadata": {},
   "source": [
    "## 3. Loại bỏ stop words"
   ]
  },
  {
   "cell_type": "code",
   "execution_count": 9,
   "metadata": {},
   "outputs": [],
   "source": [
    "my_file = open(\"data/stop words.txt\", \"r\") \n",
    "data_file = my_file.read() \n",
    "stop_words_vn = data_file.split(\"\\n\") \n",
    "my_file.close() "
   ]
  },
  {
   "cell_type": "code",
   "execution_count": 10,
   "metadata": {},
   "outputs": [
    {
     "data": {
      "text/html": [
       "<div>\n",
       "<style scoped>\n",
       "    .dataframe tbody tr th:only-of-type {\n",
       "        vertical-align: middle;\n",
       "    }\n",
       "\n",
       "    .dataframe tbody tr th {\n",
       "        vertical-align: top;\n",
       "    }\n",
       "\n",
       "    .dataframe thead th {\n",
       "        text-align: right;\n",
       "    }\n",
       "</style>\n",
       "<table border=\"1\" class=\"dataframe\">\n",
       "  <thead>\n",
       "    <tr style=\"text-align: right;\">\n",
       "      <th></th>\n",
       "      <th>sent</th>\n",
       "      <th>sentiment</th>\n",
       "      <th>sent_clean</th>\n",
       "      <th>sent_clean_tokenize</th>\n",
       "      <th>sent_clean_tokenize_nosw</th>\n",
       "    </tr>\n",
       "  </thead>\n",
       "  <tbody>\n",
       "    <tr>\n",
       "      <th>0</th>\n",
       "      <td>slide giáo trình đầy đủ .</td>\n",
       "      <td>postive</td>\n",
       "      <td>slide giáo trình đầy đủ</td>\n",
       "      <td>slide giáo_trình đầy_đủ</td>\n",
       "      <td>slide giáo_trình đầy_đủ</td>\n",
       "    </tr>\n",
       "    <tr>\n",
       "      <th>1</th>\n",
       "      <td>nhiệt tình giảng dạy , gần gũi với sinh viên .</td>\n",
       "      <td>postive</td>\n",
       "      <td>nhiệt tình giảng dạy  gần gũi với sinh viên</td>\n",
       "      <td>nhiệt_tình giảng_dạy gần_gũi với sinh_viên</td>\n",
       "      <td>nhiệt_tình giảng_dạy gần_gũi sinh_viên</td>\n",
       "    </tr>\n",
       "    <tr>\n",
       "      <th>2</th>\n",
       "      <td>đi học đầy đủ full điểm chuyên cần .</td>\n",
       "      <td>negative</td>\n",
       "      <td>đi học đầy đủ full điểm chuyên cần</td>\n",
       "      <td>đi học đầy_đủ full_điểm chuyên cần</td>\n",
       "      <td>đi học đầy_đủ full_điểm chuyên</td>\n",
       "    </tr>\n",
       "    <tr>\n",
       "      <th>3</th>\n",
       "      <td>chưa áp dụng công nghệ thông tin và các thiết ...</td>\n",
       "      <td>negative</td>\n",
       "      <td>chưa áp dụng công nghệ thông tin và các thiết ...</td>\n",
       "      <td>chưa áp_dụng công_nghệ_thông_tin và các thiết_...</td>\n",
       "      <td>áp_dụng công_nghệ_thông_tin thiết_bị hỗ_trợ gi...</td>\n",
       "    </tr>\n",
       "    <tr>\n",
       "      <th>4</th>\n",
       "      <td>thầy giảng bài hay , có nhiều bài tập ví dụ ng...</td>\n",
       "      <td>postive</td>\n",
       "      <td>thầy giảng bài hay  có nhiều bài tập ví dụ nga...</td>\n",
       "      <td>thầy giảng bài hay có nhiều bài_tập ví_dụ ngay...</td>\n",
       "      <td>thầy giảng bài_tập ví_dụ lớp</td>\n",
       "    </tr>\n",
       "    <tr>\n",
       "      <th>...</th>\n",
       "      <td>...</td>\n",
       "      <td>...</td>\n",
       "      <td>...</td>\n",
       "      <td>...</td>\n",
       "      <td>...</td>\n",
       "    </tr>\n",
       "    <tr>\n",
       "      <th>16172</th>\n",
       "      <td>hướng dẫn lab mơ hồ .</td>\n",
       "      <td>negative</td>\n",
       "      <td>hướng dẫn lab mơ hồ</td>\n",
       "      <td>hướng_dẫn lab mơ_hồ</td>\n",
       "      <td>hướng_dẫn lab mơ_hồ</td>\n",
       "    </tr>\n",
       "    <tr>\n",
       "      <th>16173</th>\n",
       "      <td>thầy cho chúng em những bài tập mang tính thực...</td>\n",
       "      <td>postive</td>\n",
       "      <td>thầy cho chúng em những bài tập mang tính thực...</td>\n",
       "      <td>thầy cho chúng_em những bài_tập mang tính thực...</td>\n",
       "      <td>thầy chúng_em bài_tập thực_hành thực_tiễn thực...</td>\n",
       "    </tr>\n",
       "    <tr>\n",
       "      <th>16174</th>\n",
       "      <td>thầy không dạy nhiều chủ yếu cho sinh viên tự ...</td>\n",
       "      <td>negative</td>\n",
       "      <td>thầy không dạy nhiều chủ yếu cho sinh viên tự ...</td>\n",
       "      <td>thầy không dạy nhiều chủ_yếu cho sinh_viên tự ...</td>\n",
       "      <td>thầy dạy chủ_yếu sinh_viên tìm_hiểu</td>\n",
       "    </tr>\n",
       "    <tr>\n",
       "      <th>16175</th>\n",
       "      <td>em muốn đổi tên môn học vì tên môn là lập trìn...</td>\n",
       "      <td>negative</td>\n",
       "      <td>em muốn đổi tên môn học vì tên môn là lập trìn...</td>\n",
       "      <td>em muốn đổi tên môn_học vì tên môn là lập_trìn...</td>\n",
       "      <td>đổi môn_học môn lập_trình c fraction_cplusplus...</td>\n",
       "    </tr>\n",
       "    <tr>\n",
       "      <th>16176</th>\n",
       "      <td>thầy vừa dạy vừa chat hoặc gọi điện thoại thườ...</td>\n",
       "      <td>negative</td>\n",
       "      <td>thầy vừa dạy vừa chat hoặc gọi điện thoại thườ...</td>\n",
       "      <td>thầy vừa dạy vừa chat hoặc gọi điện_thoại thườ...</td>\n",
       "      <td>thầy dạy chat gọi điện_thoại thường_xuyên</td>\n",
       "    </tr>\n",
       "  </tbody>\n",
       "</table>\n",
       "<p>16175 rows × 5 columns</p>\n",
       "</div>"
      ],
      "text/plain": [
       "                                                    sent sentiment  \\\n",
       "0                              slide giáo trình đầy đủ .   postive   \n",
       "1         nhiệt tình giảng dạy , gần gũi với sinh viên .   postive   \n",
       "2                   đi học đầy đủ full điểm chuyên cần .  negative   \n",
       "3      chưa áp dụng công nghệ thông tin và các thiết ...  negative   \n",
       "4      thầy giảng bài hay , có nhiều bài tập ví dụ ng...   postive   \n",
       "...                                                  ...       ...   \n",
       "16172                              hướng dẫn lab mơ hồ .  negative   \n",
       "16173  thầy cho chúng em những bài tập mang tính thực...   postive   \n",
       "16174  thầy không dạy nhiều chủ yếu cho sinh viên tự ...  negative   \n",
       "16175  em muốn đổi tên môn học vì tên môn là lập trìn...  negative   \n",
       "16176  thầy vừa dạy vừa chat hoặc gọi điện thoại thườ...  negative   \n",
       "\n",
       "                                              sent_clean  \\\n",
       "0                               slide giáo trình đầy đủ    \n",
       "1           nhiệt tình giảng dạy  gần gũi với sinh viên    \n",
       "2                    đi học đầy đủ full điểm chuyên cần    \n",
       "3      chưa áp dụng công nghệ thông tin và các thiết ...   \n",
       "4      thầy giảng bài hay  có nhiều bài tập ví dụ nga...   \n",
       "...                                                  ...   \n",
       "16172                               hướng dẫn lab mơ hồ    \n",
       "16173  thầy cho chúng em những bài tập mang tính thực...   \n",
       "16174  thầy không dạy nhiều chủ yếu cho sinh viên tự ...   \n",
       "16175  em muốn đổi tên môn học vì tên môn là lập trìn...   \n",
       "16176  thầy vừa dạy vừa chat hoặc gọi điện thoại thườ...   \n",
       "\n",
       "                                     sent_clean_tokenize  \\\n",
       "0                                slide giáo_trình đầy_đủ   \n",
       "1             nhiệt_tình giảng_dạy gần_gũi với sinh_viên   \n",
       "2                     đi học đầy_đủ full_điểm chuyên cần   \n",
       "3      chưa áp_dụng công_nghệ_thông_tin và các thiết_...   \n",
       "4      thầy giảng bài hay có nhiều bài_tập ví_dụ ngay...   \n",
       "...                                                  ...   \n",
       "16172                                hướng_dẫn lab mơ_hồ   \n",
       "16173  thầy cho chúng_em những bài_tập mang tính thực...   \n",
       "16174  thầy không dạy nhiều chủ_yếu cho sinh_viên tự ...   \n",
       "16175  em muốn đổi tên môn_học vì tên môn là lập_trìn...   \n",
       "16176  thầy vừa dạy vừa chat hoặc gọi điện_thoại thườ...   \n",
       "\n",
       "                                sent_clean_tokenize_nosw  \n",
       "0                                slide giáo_trình đầy_đủ  \n",
       "1                 nhiệt_tình giảng_dạy gần_gũi sinh_viên  \n",
       "2                         đi học đầy_đủ full_điểm chuyên  \n",
       "3      áp_dụng công_nghệ_thông_tin thiết_bị hỗ_trợ gi...  \n",
       "4                           thầy giảng bài_tập ví_dụ lớp  \n",
       "...                                                  ...  \n",
       "16172                                hướng_dẫn lab mơ_hồ  \n",
       "16173  thầy chúng_em bài_tập thực_hành thực_tiễn thực...  \n",
       "16174                thầy dạy chủ_yếu sinh_viên tìm_hiểu  \n",
       "16175  đổi môn_học môn lập_trình c fraction_cplusplus...  \n",
       "16176          thầy dạy chat gọi điện_thoại thường_xuyên  \n",
       "\n",
       "[16175 rows x 5 columns]"
      ]
     },
     "execution_count": 10,
     "metadata": {},
     "output_type": "execute_result"
    }
   ],
   "source": [
    "data['sent_clean_tokenize_nosw']=data['sent_clean_tokenize'].apply(lambda x: ' '.join([word for word in x.split() if word not in (stop_words_vn)]))\n",
    "data"
   ]
  },
  {
   "cell_type": "markdown",
   "metadata": {},
   "source": [
    "## 4. Xóa bỏ các từ xuất hiện nhiều lần"
   ]
  },
  {
   "cell_type": "code",
   "execution_count": 11,
   "metadata": {},
   "outputs": [
    {
     "data": {
      "application/vnd.plotly.v1+json": {
       "config": {
        "plotlyServerURL": "https://plot.ly"
       },
       "data": [
        {
         "alignmentgroup": "True",
         "hovertemplate": "count=%{x}<br>word=%{y}<extra></extra>",
         "legendgroup": "",
         "marker": {
          "color": "#636efa",
          "pattern": {
           "shape": ""
          }
         },
         "name": "",
         "offsetgroup": "",
         "orientation": "h",
         "showlegend": false,
         "textposition": "auto",
         "type": "bar",
         "x": [
          4335,
          3755,
          3074,
          2234,
          1729,
          1470,
          1360,
          1270,
          1251,
          1217
         ],
         "xaxis": "x",
         "y": [
          "thầy",
          "sinh_viên",
          "dạy",
          "giảng_viên",
          "học",
          "bài_tập",
          "giảng_dạy",
          "giảng",
          "kiến_thức",
          "thực_hành"
         ],
         "yaxis": "y"
        }
       ],
       "layout": {
        "barmode": "relative",
        "height": 700,
        "legend": {
         "tracegroupgap": 0
        },
        "template": {
         "data": {
          "bar": [
           {
            "error_x": {
             "color": "#2a3f5f"
            },
            "error_y": {
             "color": "#2a3f5f"
            },
            "marker": {
             "line": {
              "color": "#E5ECF6",
              "width": 0.5
             },
             "pattern": {
              "fillmode": "overlay",
              "size": 10,
              "solidity": 0.2
             }
            },
            "type": "bar"
           }
          ],
          "barpolar": [
           {
            "marker": {
             "line": {
              "color": "#E5ECF6",
              "width": 0.5
             },
             "pattern": {
              "fillmode": "overlay",
              "size": 10,
              "solidity": 0.2
             }
            },
            "type": "barpolar"
           }
          ],
          "carpet": [
           {
            "aaxis": {
             "endlinecolor": "#2a3f5f",
             "gridcolor": "white",
             "linecolor": "white",
             "minorgridcolor": "white",
             "startlinecolor": "#2a3f5f"
            },
            "baxis": {
             "endlinecolor": "#2a3f5f",
             "gridcolor": "white",
             "linecolor": "white",
             "minorgridcolor": "white",
             "startlinecolor": "#2a3f5f"
            },
            "type": "carpet"
           }
          ],
          "choropleth": [
           {
            "colorbar": {
             "outlinewidth": 0,
             "ticks": ""
            },
            "type": "choropleth"
           }
          ],
          "contour": [
           {
            "colorbar": {
             "outlinewidth": 0,
             "ticks": ""
            },
            "colorscale": [
             [
              0,
              "#0d0887"
             ],
             [
              0.1111111111111111,
              "#46039f"
             ],
             [
              0.2222222222222222,
              "#7201a8"
             ],
             [
              0.3333333333333333,
              "#9c179e"
             ],
             [
              0.4444444444444444,
              "#bd3786"
             ],
             [
              0.5555555555555556,
              "#d8576b"
             ],
             [
              0.6666666666666666,
              "#ed7953"
             ],
             [
              0.7777777777777778,
              "#fb9f3a"
             ],
             [
              0.8888888888888888,
              "#fdca26"
             ],
             [
              1,
              "#f0f921"
             ]
            ],
            "type": "contour"
           }
          ],
          "contourcarpet": [
           {
            "colorbar": {
             "outlinewidth": 0,
             "ticks": ""
            },
            "type": "contourcarpet"
           }
          ],
          "heatmap": [
           {
            "colorbar": {
             "outlinewidth": 0,
             "ticks": ""
            },
            "colorscale": [
             [
              0,
              "#0d0887"
             ],
             [
              0.1111111111111111,
              "#46039f"
             ],
             [
              0.2222222222222222,
              "#7201a8"
             ],
             [
              0.3333333333333333,
              "#9c179e"
             ],
             [
              0.4444444444444444,
              "#bd3786"
             ],
             [
              0.5555555555555556,
              "#d8576b"
             ],
             [
              0.6666666666666666,
              "#ed7953"
             ],
             [
              0.7777777777777778,
              "#fb9f3a"
             ],
             [
              0.8888888888888888,
              "#fdca26"
             ],
             [
              1,
              "#f0f921"
             ]
            ],
            "type": "heatmap"
           }
          ],
          "heatmapgl": [
           {
            "colorbar": {
             "outlinewidth": 0,
             "ticks": ""
            },
            "colorscale": [
             [
              0,
              "#0d0887"
             ],
             [
              0.1111111111111111,
              "#46039f"
             ],
             [
              0.2222222222222222,
              "#7201a8"
             ],
             [
              0.3333333333333333,
              "#9c179e"
             ],
             [
              0.4444444444444444,
              "#bd3786"
             ],
             [
              0.5555555555555556,
              "#d8576b"
             ],
             [
              0.6666666666666666,
              "#ed7953"
             ],
             [
              0.7777777777777778,
              "#fb9f3a"
             ],
             [
              0.8888888888888888,
              "#fdca26"
             ],
             [
              1,
              "#f0f921"
             ]
            ],
            "type": "heatmapgl"
           }
          ],
          "histogram": [
           {
            "marker": {
             "pattern": {
              "fillmode": "overlay",
              "size": 10,
              "solidity": 0.2
             }
            },
            "type": "histogram"
           }
          ],
          "histogram2d": [
           {
            "colorbar": {
             "outlinewidth": 0,
             "ticks": ""
            },
            "colorscale": [
             [
              0,
              "#0d0887"
             ],
             [
              0.1111111111111111,
              "#46039f"
             ],
             [
              0.2222222222222222,
              "#7201a8"
             ],
             [
              0.3333333333333333,
              "#9c179e"
             ],
             [
              0.4444444444444444,
              "#bd3786"
             ],
             [
              0.5555555555555556,
              "#d8576b"
             ],
             [
              0.6666666666666666,
              "#ed7953"
             ],
             [
              0.7777777777777778,
              "#fb9f3a"
             ],
             [
              0.8888888888888888,
              "#fdca26"
             ],
             [
              1,
              "#f0f921"
             ]
            ],
            "type": "histogram2d"
           }
          ],
          "histogram2dcontour": [
           {
            "colorbar": {
             "outlinewidth": 0,
             "ticks": ""
            },
            "colorscale": [
             [
              0,
              "#0d0887"
             ],
             [
              0.1111111111111111,
              "#46039f"
             ],
             [
              0.2222222222222222,
              "#7201a8"
             ],
             [
              0.3333333333333333,
              "#9c179e"
             ],
             [
              0.4444444444444444,
              "#bd3786"
             ],
             [
              0.5555555555555556,
              "#d8576b"
             ],
             [
              0.6666666666666666,
              "#ed7953"
             ],
             [
              0.7777777777777778,
              "#fb9f3a"
             ],
             [
              0.8888888888888888,
              "#fdca26"
             ],
             [
              1,
              "#f0f921"
             ]
            ],
            "type": "histogram2dcontour"
           }
          ],
          "mesh3d": [
           {
            "colorbar": {
             "outlinewidth": 0,
             "ticks": ""
            },
            "type": "mesh3d"
           }
          ],
          "parcoords": [
           {
            "line": {
             "colorbar": {
              "outlinewidth": 0,
              "ticks": ""
             }
            },
            "type": "parcoords"
           }
          ],
          "pie": [
           {
            "automargin": true,
            "type": "pie"
           }
          ],
          "scatter": [
           {
            "fillpattern": {
             "fillmode": "overlay",
             "size": 10,
             "solidity": 0.2
            },
            "type": "scatter"
           }
          ],
          "scatter3d": [
           {
            "line": {
             "colorbar": {
              "outlinewidth": 0,
              "ticks": ""
             }
            },
            "marker": {
             "colorbar": {
              "outlinewidth": 0,
              "ticks": ""
             }
            },
            "type": "scatter3d"
           }
          ],
          "scattercarpet": [
           {
            "marker": {
             "colorbar": {
              "outlinewidth": 0,
              "ticks": ""
             }
            },
            "type": "scattercarpet"
           }
          ],
          "scattergeo": [
           {
            "marker": {
             "colorbar": {
              "outlinewidth": 0,
              "ticks": ""
             }
            },
            "type": "scattergeo"
           }
          ],
          "scattergl": [
           {
            "marker": {
             "colorbar": {
              "outlinewidth": 0,
              "ticks": ""
             }
            },
            "type": "scattergl"
           }
          ],
          "scattermapbox": [
           {
            "marker": {
             "colorbar": {
              "outlinewidth": 0,
              "ticks": ""
             }
            },
            "type": "scattermapbox"
           }
          ],
          "scatterpolar": [
           {
            "marker": {
             "colorbar": {
              "outlinewidth": 0,
              "ticks": ""
             }
            },
            "type": "scatterpolar"
           }
          ],
          "scatterpolargl": [
           {
            "marker": {
             "colorbar": {
              "outlinewidth": 0,
              "ticks": ""
             }
            },
            "type": "scatterpolargl"
           }
          ],
          "scatterternary": [
           {
            "marker": {
             "colorbar": {
              "outlinewidth": 0,
              "ticks": ""
             }
            },
            "type": "scatterternary"
           }
          ],
          "surface": [
           {
            "colorbar": {
             "outlinewidth": 0,
             "ticks": ""
            },
            "colorscale": [
             [
              0,
              "#0d0887"
             ],
             [
              0.1111111111111111,
              "#46039f"
             ],
             [
              0.2222222222222222,
              "#7201a8"
             ],
             [
              0.3333333333333333,
              "#9c179e"
             ],
             [
              0.4444444444444444,
              "#bd3786"
             ],
             [
              0.5555555555555556,
              "#d8576b"
             ],
             [
              0.6666666666666666,
              "#ed7953"
             ],
             [
              0.7777777777777778,
              "#fb9f3a"
             ],
             [
              0.8888888888888888,
              "#fdca26"
             ],
             [
              1,
              "#f0f921"
             ]
            ],
            "type": "surface"
           }
          ],
          "table": [
           {
            "cells": {
             "fill": {
              "color": "#EBF0F8"
             },
             "line": {
              "color": "white"
             }
            },
            "header": {
             "fill": {
              "color": "#C8D4E3"
             },
             "line": {
              "color": "white"
             }
            },
            "type": "table"
           }
          ]
         },
         "layout": {
          "annotationdefaults": {
           "arrowcolor": "#2a3f5f",
           "arrowhead": 0,
           "arrowwidth": 1
          },
          "autotypenumbers": "strict",
          "coloraxis": {
           "colorbar": {
            "outlinewidth": 0,
            "ticks": ""
           }
          },
          "colorscale": {
           "diverging": [
            [
             0,
             "#8e0152"
            ],
            [
             0.1,
             "#c51b7d"
            ],
            [
             0.2,
             "#de77ae"
            ],
            [
             0.3,
             "#f1b6da"
            ],
            [
             0.4,
             "#fde0ef"
            ],
            [
             0.5,
             "#f7f7f7"
            ],
            [
             0.6,
             "#e6f5d0"
            ],
            [
             0.7,
             "#b8e186"
            ],
            [
             0.8,
             "#7fbc41"
            ],
            [
             0.9,
             "#4d9221"
            ],
            [
             1,
             "#276419"
            ]
           ],
           "sequential": [
            [
             0,
             "#0d0887"
            ],
            [
             0.1111111111111111,
             "#46039f"
            ],
            [
             0.2222222222222222,
             "#7201a8"
            ],
            [
             0.3333333333333333,
             "#9c179e"
            ],
            [
             0.4444444444444444,
             "#bd3786"
            ],
            [
             0.5555555555555556,
             "#d8576b"
            ],
            [
             0.6666666666666666,
             "#ed7953"
            ],
            [
             0.7777777777777778,
             "#fb9f3a"
            ],
            [
             0.8888888888888888,
             "#fdca26"
            ],
            [
             1,
             "#f0f921"
            ]
           ],
           "sequentialminus": [
            [
             0,
             "#0d0887"
            ],
            [
             0.1111111111111111,
             "#46039f"
            ],
            [
             0.2222222222222222,
             "#7201a8"
            ],
            [
             0.3333333333333333,
             "#9c179e"
            ],
            [
             0.4444444444444444,
             "#bd3786"
            ],
            [
             0.5555555555555556,
             "#d8576b"
            ],
            [
             0.6666666666666666,
             "#ed7953"
            ],
            [
             0.7777777777777778,
             "#fb9f3a"
            ],
            [
             0.8888888888888888,
             "#fdca26"
            ],
            [
             1,
             "#f0f921"
            ]
           ]
          },
          "colorway": [
           "#636efa",
           "#EF553B",
           "#00cc96",
           "#ab63fa",
           "#FFA15A",
           "#19d3f3",
           "#FF6692",
           "#B6E880",
           "#FF97FF",
           "#FECB52"
          ],
          "font": {
           "color": "#2a3f5f"
          },
          "geo": {
           "bgcolor": "white",
           "lakecolor": "white",
           "landcolor": "#E5ECF6",
           "showlakes": true,
           "showland": true,
           "subunitcolor": "white"
          },
          "hoverlabel": {
           "align": "left"
          },
          "hovermode": "closest",
          "mapbox": {
           "style": "light"
          },
          "paper_bgcolor": "white",
          "plot_bgcolor": "#E5ECF6",
          "polar": {
           "angularaxis": {
            "gridcolor": "white",
            "linecolor": "white",
            "ticks": ""
           },
           "bgcolor": "#E5ECF6",
           "radialaxis": {
            "gridcolor": "white",
            "linecolor": "white",
            "ticks": ""
           }
          },
          "scene": {
           "xaxis": {
            "backgroundcolor": "#E5ECF6",
            "gridcolor": "white",
            "gridwidth": 2,
            "linecolor": "white",
            "showbackground": true,
            "ticks": "",
            "zerolinecolor": "white"
           },
           "yaxis": {
            "backgroundcolor": "#E5ECF6",
            "gridcolor": "white",
            "gridwidth": 2,
            "linecolor": "white",
            "showbackground": true,
            "ticks": "",
            "zerolinecolor": "white"
           },
           "zaxis": {
            "backgroundcolor": "#E5ECF6",
            "gridcolor": "white",
            "gridwidth": 2,
            "linecolor": "white",
            "showbackground": true,
            "ticks": "",
            "zerolinecolor": "white"
           }
          },
          "shapedefaults": {
           "line": {
            "color": "#2a3f5f"
           }
          },
          "ternary": {
           "aaxis": {
            "gridcolor": "white",
            "linecolor": "white",
            "ticks": ""
           },
           "baxis": {
            "gridcolor": "white",
            "linecolor": "white",
            "ticks": ""
           },
           "bgcolor": "#E5ECF6",
           "caxis": {
            "gridcolor": "white",
            "linecolor": "white",
            "ticks": ""
           }
          },
          "title": {
           "x": 0.05
          },
          "xaxis": {
           "automargin": true,
           "gridcolor": "white",
           "linecolor": "white",
           "ticks": "",
           "title": {
            "standoff": 15
           },
           "zerolinecolor": "white",
           "zerolinewidth": 2
          },
          "yaxis": {
           "automargin": true,
           "gridcolor": "white",
           "linecolor": "white",
           "ticks": "",
           "title": {
            "standoff": 15
           },
           "zerolinecolor": "white",
           "zerolinewidth": 2
          }
         }
        },
        "title": {
         "text": "Commmon Words in Text"
        },
        "width": 700,
        "xaxis": {
         "anchor": "y",
         "domain": [
          0,
          1
         ],
         "title": {
          "text": "count"
         }
        },
        "yaxis": {
         "anchor": "x",
         "domain": [
          0,
          1
         ],
         "title": {
          "text": "word"
         }
        }
       }
      }
     },
     "metadata": {},
     "output_type": "display_data"
    }
   ],
   "source": [
    "cnt = Counter()\n",
    "for text in data[\"sent_clean_tokenize_nosw\"].values:\n",
    "    for word in str(text).split():\n",
    "        if word!='nhiệt_tình':\n",
    "            cnt[word] += 1\n",
    "cnt.most_common(10)\n",
    "temp = pd.DataFrame(cnt.most_common(10))\n",
    "temp.columns=['word', 'count']\n",
    "import plotly.express as px\n",
    "px.bar(temp, x=\"count\", y=\"word\", title='Commmon Words in Text', orientation='h', \n",
    "             width=700, height=700)"
   ]
  },
  {
   "cell_type": "code",
   "execution_count": 12,
   "metadata": {},
   "outputs": [
    {
     "data": {
      "text/html": [
       "<div>\n",
       "<style scoped>\n",
       "    .dataframe tbody tr th:only-of-type {\n",
       "        vertical-align: middle;\n",
       "    }\n",
       "\n",
       "    .dataframe tbody tr th {\n",
       "        vertical-align: top;\n",
       "    }\n",
       "\n",
       "    .dataframe thead th {\n",
       "        text-align: right;\n",
       "    }\n",
       "</style>\n",
       "<table border=\"1\" class=\"dataframe\">\n",
       "  <thead>\n",
       "    <tr style=\"text-align: right;\">\n",
       "      <th></th>\n",
       "      <th>sent</th>\n",
       "      <th>sentiment</th>\n",
       "      <th>sent_clean</th>\n",
       "      <th>sent_clean_tokenize</th>\n",
       "      <th>sent_clean_tokenize_nosw</th>\n",
       "      <th>sent_clean_tokenize_nosw_nofreq</th>\n",
       "    </tr>\n",
       "  </thead>\n",
       "  <tbody>\n",
       "    <tr>\n",
       "      <th>0</th>\n",
       "      <td>slide giáo trình đầy đủ .</td>\n",
       "      <td>postive</td>\n",
       "      <td>slide giáo trình đầy đủ</td>\n",
       "      <td>slide giáo_trình đầy_đủ</td>\n",
       "      <td>slide giáo_trình đầy_đủ</td>\n",
       "      <td>slide giáo_trình đầy_đủ</td>\n",
       "    </tr>\n",
       "    <tr>\n",
       "      <th>1</th>\n",
       "      <td>nhiệt tình giảng dạy , gần gũi với sinh viên .</td>\n",
       "      <td>postive</td>\n",
       "      <td>nhiệt tình giảng dạy  gần gũi với sinh viên</td>\n",
       "      <td>nhiệt_tình giảng_dạy gần_gũi với sinh_viên</td>\n",
       "      <td>nhiệt_tình giảng_dạy gần_gũi sinh_viên</td>\n",
       "      <td>nhiệt_tình gần_gũi</td>\n",
       "    </tr>\n",
       "    <tr>\n",
       "      <th>2</th>\n",
       "      <td>đi học đầy đủ full điểm chuyên cần .</td>\n",
       "      <td>negative</td>\n",
       "      <td>đi học đầy đủ full điểm chuyên cần</td>\n",
       "      <td>đi học đầy_đủ full_điểm chuyên cần</td>\n",
       "      <td>đi học đầy_đủ full_điểm chuyên</td>\n",
       "      <td>đi đầy_đủ full_điểm chuyên</td>\n",
       "    </tr>\n",
       "    <tr>\n",
       "      <th>3</th>\n",
       "      <td>chưa áp dụng công nghệ thông tin và các thiết ...</td>\n",
       "      <td>negative</td>\n",
       "      <td>chưa áp dụng công nghệ thông tin và các thiết ...</td>\n",
       "      <td>chưa áp_dụng công_nghệ_thông_tin và các thiết_...</td>\n",
       "      <td>áp_dụng công_nghệ_thông_tin thiết_bị hỗ_trợ gi...</td>\n",
       "      <td>áp_dụng công_nghệ_thông_tin thiết_bị hỗ_trợ</td>\n",
       "    </tr>\n",
       "    <tr>\n",
       "      <th>4</th>\n",
       "      <td>thầy giảng bài hay , có nhiều bài tập ví dụ ng...</td>\n",
       "      <td>postive</td>\n",
       "      <td>thầy giảng bài hay  có nhiều bài tập ví dụ nga...</td>\n",
       "      <td>thầy giảng bài hay có nhiều bài_tập ví_dụ ngay...</td>\n",
       "      <td>thầy giảng bài_tập ví_dụ lớp</td>\n",
       "      <td>ví_dụ lớp</td>\n",
       "    </tr>\n",
       "    <tr>\n",
       "      <th>...</th>\n",
       "      <td>...</td>\n",
       "      <td>...</td>\n",
       "      <td>...</td>\n",
       "      <td>...</td>\n",
       "      <td>...</td>\n",
       "      <td>...</td>\n",
       "    </tr>\n",
       "    <tr>\n",
       "      <th>16172</th>\n",
       "      <td>hướng dẫn lab mơ hồ .</td>\n",
       "      <td>negative</td>\n",
       "      <td>hướng dẫn lab mơ hồ</td>\n",
       "      <td>hướng_dẫn lab mơ_hồ</td>\n",
       "      <td>hướng_dẫn lab mơ_hồ</td>\n",
       "      <td>hướng_dẫn lab mơ_hồ</td>\n",
       "    </tr>\n",
       "    <tr>\n",
       "      <th>16173</th>\n",
       "      <td>thầy cho chúng em những bài tập mang tính thực...</td>\n",
       "      <td>postive</td>\n",
       "      <td>thầy cho chúng em những bài tập mang tính thực...</td>\n",
       "      <td>thầy cho chúng_em những bài_tập mang tính thực...</td>\n",
       "      <td>thầy chúng_em bài_tập thực_hành thực_tiễn thực...</td>\n",
       "      <td>chúng_em thực_tiễn thực_sự hài_lòng</td>\n",
       "    </tr>\n",
       "    <tr>\n",
       "      <th>16174</th>\n",
       "      <td>thầy không dạy nhiều chủ yếu cho sinh viên tự ...</td>\n",
       "      <td>negative</td>\n",
       "      <td>thầy không dạy nhiều chủ yếu cho sinh viên tự ...</td>\n",
       "      <td>thầy không dạy nhiều chủ_yếu cho sinh_viên tự ...</td>\n",
       "      <td>thầy dạy chủ_yếu sinh_viên tìm_hiểu</td>\n",
       "      <td>chủ_yếu tìm_hiểu</td>\n",
       "    </tr>\n",
       "    <tr>\n",
       "      <th>16175</th>\n",
       "      <td>em muốn đổi tên môn học vì tên môn là lập trìn...</td>\n",
       "      <td>negative</td>\n",
       "      <td>em muốn đổi tên môn học vì tên môn là lập trìn...</td>\n",
       "      <td>em muốn đổi tên môn_học vì tên môn là lập_trìn...</td>\n",
       "      <td>đổi môn_học môn lập_trình c fraction_cplusplus...</td>\n",
       "      <td>đổi môn_học môn lập_trình c fraction_cplusplus...</td>\n",
       "    </tr>\n",
       "    <tr>\n",
       "      <th>16176</th>\n",
       "      <td>thầy vừa dạy vừa chat hoặc gọi điện thoại thườ...</td>\n",
       "      <td>negative</td>\n",
       "      <td>thầy vừa dạy vừa chat hoặc gọi điện thoại thườ...</td>\n",
       "      <td>thầy vừa dạy vừa chat hoặc gọi điện_thoại thườ...</td>\n",
       "      <td>thầy dạy chat gọi điện_thoại thường_xuyên</td>\n",
       "      <td>chat gọi điện_thoại thường_xuyên</td>\n",
       "    </tr>\n",
       "  </tbody>\n",
       "</table>\n",
       "<p>16175 rows × 6 columns</p>\n",
       "</div>"
      ],
      "text/plain": [
       "                                                    sent sentiment  \\\n",
       "0                              slide giáo trình đầy đủ .   postive   \n",
       "1         nhiệt tình giảng dạy , gần gũi với sinh viên .   postive   \n",
       "2                   đi học đầy đủ full điểm chuyên cần .  negative   \n",
       "3      chưa áp dụng công nghệ thông tin và các thiết ...  negative   \n",
       "4      thầy giảng bài hay , có nhiều bài tập ví dụ ng...   postive   \n",
       "...                                                  ...       ...   \n",
       "16172                              hướng dẫn lab mơ hồ .  negative   \n",
       "16173  thầy cho chúng em những bài tập mang tính thực...   postive   \n",
       "16174  thầy không dạy nhiều chủ yếu cho sinh viên tự ...  negative   \n",
       "16175  em muốn đổi tên môn học vì tên môn là lập trìn...  negative   \n",
       "16176  thầy vừa dạy vừa chat hoặc gọi điện thoại thườ...  negative   \n",
       "\n",
       "                                              sent_clean  \\\n",
       "0                               slide giáo trình đầy đủ    \n",
       "1           nhiệt tình giảng dạy  gần gũi với sinh viên    \n",
       "2                    đi học đầy đủ full điểm chuyên cần    \n",
       "3      chưa áp dụng công nghệ thông tin và các thiết ...   \n",
       "4      thầy giảng bài hay  có nhiều bài tập ví dụ nga...   \n",
       "...                                                  ...   \n",
       "16172                               hướng dẫn lab mơ hồ    \n",
       "16173  thầy cho chúng em những bài tập mang tính thực...   \n",
       "16174  thầy không dạy nhiều chủ yếu cho sinh viên tự ...   \n",
       "16175  em muốn đổi tên môn học vì tên môn là lập trìn...   \n",
       "16176  thầy vừa dạy vừa chat hoặc gọi điện thoại thườ...   \n",
       "\n",
       "                                     sent_clean_tokenize  \\\n",
       "0                                slide giáo_trình đầy_đủ   \n",
       "1             nhiệt_tình giảng_dạy gần_gũi với sinh_viên   \n",
       "2                     đi học đầy_đủ full_điểm chuyên cần   \n",
       "3      chưa áp_dụng công_nghệ_thông_tin và các thiết_...   \n",
       "4      thầy giảng bài hay có nhiều bài_tập ví_dụ ngay...   \n",
       "...                                                  ...   \n",
       "16172                                hướng_dẫn lab mơ_hồ   \n",
       "16173  thầy cho chúng_em những bài_tập mang tính thực...   \n",
       "16174  thầy không dạy nhiều chủ_yếu cho sinh_viên tự ...   \n",
       "16175  em muốn đổi tên môn_học vì tên môn là lập_trìn...   \n",
       "16176  thầy vừa dạy vừa chat hoặc gọi điện_thoại thườ...   \n",
       "\n",
       "                                sent_clean_tokenize_nosw  \\\n",
       "0                                slide giáo_trình đầy_đủ   \n",
       "1                 nhiệt_tình giảng_dạy gần_gũi sinh_viên   \n",
       "2                         đi học đầy_đủ full_điểm chuyên   \n",
       "3      áp_dụng công_nghệ_thông_tin thiết_bị hỗ_trợ gi...   \n",
       "4                           thầy giảng bài_tập ví_dụ lớp   \n",
       "...                                                  ...   \n",
       "16172                                hướng_dẫn lab mơ_hồ   \n",
       "16173  thầy chúng_em bài_tập thực_hành thực_tiễn thực...   \n",
       "16174                thầy dạy chủ_yếu sinh_viên tìm_hiểu   \n",
       "16175  đổi môn_học môn lập_trình c fraction_cplusplus...   \n",
       "16176          thầy dạy chat gọi điện_thoại thường_xuyên   \n",
       "\n",
       "                         sent_clean_tokenize_nosw_nofreq  \n",
       "0                                slide giáo_trình đầy_đủ  \n",
       "1                                     nhiệt_tình gần_gũi  \n",
       "2                             đi đầy_đủ full_điểm chuyên  \n",
       "3            áp_dụng công_nghệ_thông_tin thiết_bị hỗ_trợ  \n",
       "4                                              ví_dụ lớp  \n",
       "...                                                  ...  \n",
       "16172                                hướng_dẫn lab mơ_hồ  \n",
       "16173                chúng_em thực_tiễn thực_sự hài_lòng  \n",
       "16174                                   chủ_yếu tìm_hiểu  \n",
       "16175  đổi môn_học môn lập_trình c fraction_cplusplus...  \n",
       "16176                   chat gọi điện_thoại thường_xuyên  \n",
       "\n",
       "[16175 rows x 6 columns]"
      ]
     },
     "execution_count": 12,
     "metadata": {},
     "output_type": "execute_result"
    }
   ],
   "source": [
    "FREQWORDS = set([w for (w, wc) in cnt.most_common(10)])\n",
    "def remove_freqwords(text):\n",
    "    return \" \".join([word for word in str(text).split() if word not in FREQWORDS])\n",
    "data[\"sent_clean_tokenize_nosw_nofreq\"] = data[\"sent_clean_tokenize_nosw\"].apply(lambda text: remove_freqwords(text))\n",
    "data"
   ]
  },
  {
   "cell_type": "markdown",
   "metadata": {},
   "source": [
    "## 5. Mã hóa dữ liệu"
   ]
  },
  {
   "cell_type": "code",
   "execution_count": 13,
   "metadata": {},
   "outputs": [
    {
     "data": {
      "text/plain": [
       "array([2, 2, 0, ..., 0, 0, 0])"
      ]
     },
     "execution_count": 13,
     "metadata": {},
     "output_type": "execute_result"
    }
   ],
   "source": [
    "le = LabelEncoder()\n",
    "y = data['sentiment']\n",
    "y = le.fit_transform(y) \n",
    "y"
   ]
  },
  {
   "cell_type": "code",
   "execution_count": 14,
   "metadata": {},
   "outputs": [],
   "source": [
    "# Vector hóa với CountVectorizer\n",
    "cv = CountVectorizer()\n",
    "text_counts_vec = cv.fit_transform(data['sent_clean_tokenize_nosw_nofreq'])"
   ]
  },
  {
   "cell_type": "code",
   "execution_count": 15,
   "metadata": {},
   "outputs": [],
   "source": [
    "# Vector hóa với TfidfVectorizer\n",
    "tfidf = TfidfVectorizer()\n",
    "text_tfidf_vec = tfidf.fit_transform(data['sent_clean_tokenize_nosw_nofreq'])"
   ]
  },
  {
   "cell_type": "markdown",
   "metadata": {},
   "source": [
    "# V. Train model"
   ]
  },
  {
   "cell_type": "markdown",
   "metadata": {},
   "source": [
    "## 1. Train model dùng CountVectorizer"
   ]
  },
  {
   "cell_type": "code",
   "execution_count": 16,
   "metadata": {},
   "outputs": [],
   "source": [
    "X=text_counts_vec\n",
    "X_train, X_test, y_train, y_test = train_test_split(X, y, test_size=0.3,random_state=10)"
   ]
  },
  {
   "cell_type": "code",
   "execution_count": 17,
   "metadata": {},
   "outputs": [
    {
     "name": "stdout",
     "output_type": "stream",
     "text": [
      "MultinomialNB model accuracy is 79.06%\n",
      "------------------------------------------------\n",
      "Confusion Matrix:\n",
      "      0   1     2\n",
      "0  1779  24   474\n",
      "1   101   8    84\n",
      "2   325   8  2050\n",
      "------------------------------------------------\n",
      "Classification Report:\n",
      "              precision    recall  f1-score   support\n",
      "\n",
      "           0       0.81      0.78      0.79      2277\n",
      "           1       0.20      0.04      0.07       193\n",
      "           2       0.79      0.86      0.82      2383\n",
      "\n",
      "    accuracy                           0.79      4853\n",
      "   macro avg       0.60      0.56      0.56      4853\n",
      "weighted avg       0.77      0.79      0.78      4853\n",
      "\n"
     ]
    }
   ],
   "source": [
    "MNB = MultinomialNB()\n",
    "MNB.fit(X_train, y_train)\n",
    "predicted = MNB.predict(X_test)\n",
    "accuracy_score = metrics.accuracy_score(predicted, y_test)\n",
    "\n",
    "print('MultinomialNB model accuracy is',str('{:04.2f}'.format(accuracy_score*100))+'%')\n",
    "print('------------------------------------------------')\n",
    "print('Confusion Matrix:')\n",
    "print(pd.DataFrame(confusion_matrix(y_test, predicted)))\n",
    "print('------------------------------------------------')\n",
    "print('Classification Report:')\n",
    "print(classification_report(y_test, predicted))"
   ]
  },
  {
   "cell_type": "code",
   "execution_count": 18,
   "metadata": {},
   "outputs": [
    {
     "data": {
      "text/plain": [
       "Text(0.5, 1.0, 'Confusion matrix NAIVE BAYES')"
      ]
     },
     "execution_count": 18,
     "metadata": {},
     "output_type": "execute_result"
    },
    {
     "data": {
      "image/png": "[encoded data removed]",
      "text/plain": [
       "<Figure size 640x480 with 2 Axes>"
      ]
     },
     "metadata": {},
     "output_type": "display_data"
    }
   ],
   "source": [
    "sns.heatmap(pd.DataFrame(confusion_matrix(y_test, predicted)), cmap='Blues', annot=True,fmt='g')\n",
    "plt.title('Confusion matrix NAIVE BAYES')"
   ]
  },
  {
   "cell_type": "markdown",
   "metadata": {},
   "source": [
    "## 2. Train model dùng TfidfVectorizer"
   ]
  },
  {
   "cell_type": "code",
   "execution_count": 19,
   "metadata": {},
   "outputs": [],
   "source": [
    "X=text_tfidf_vec\n",
    "X_train, X_test, y_train, y_test = train_test_split(X, y, test_size=0.3,random_state=10)"
   ]
  },
  {
   "cell_type": "code",
   "execution_count": 20,
   "metadata": {},
   "outputs": [
    {
     "name": "stdout",
     "output_type": "stream",
     "text": [
      "MultinomialNB model accuracy is 79.41%\n",
      "------------------------------------------------\n",
      "Confusion Matrix:\n",
      "      0  1     2\n",
      "0  1815  0   462\n",
      "1   104  2    87\n",
      "2   346  0  2037\n",
      "------------------------------------------------\n",
      "Classification Report:\n",
      "              precision    recall  f1-score   support\n",
      "\n",
      "           0       0.80      0.80      0.80      2277\n",
      "           1       1.00      0.01      0.02       193\n",
      "           2       0.79      0.85      0.82      2383\n",
      "\n",
      "    accuracy                           0.79      4853\n",
      "   macro avg       0.86      0.55      0.55      4853\n",
      "weighted avg       0.80      0.79      0.78      4853\n",
      "\n"
     ]
    }
   ],
   "source": [
    "MNB = MultinomialNB()\n",
    "MNB.fit(X_train, y_train)\n",
    "predicted = MNB.predict(X_test)\n",
    "accuracy_score = metrics.accuracy_score(predicted, y_test)\n",
    "\n",
    "print('MultinomialNB model accuracy is',str('{:04.2f}'.format(accuracy_score*100))+'%')\n",
    "print('------------------------------------------------')\n",
    "print('Confusion Matrix:')\n",
    "print(pd.DataFrame(confusion_matrix(y_test, predicted)))\n",
    "print('------------------------------------------------')\n",
    "print('Classification Report:')\n",
    "print(classification_report(y_test, predicted))"
   ]
  },
  {
   "cell_type": "code",
   "execution_count": 21,
   "metadata": {},
   "outputs": [
    {
     "data": {
      "text/plain": [
       "Text(0.5, 1.0, 'Confusion matrix NAIVE BAYES')"
      ]
     },
     "execution_count": 21,
     "metadata": {},
     "output_type": "execute_result"
    },
    {
     "data": {
      "image/png": "[encoded data removed]",
      "text/plain": [
       "<Figure size 640x480 with 2 Axes>"
      ]
     },
     "metadata": {},
     "output_type": "display_data"
    }
   ],
   "source": [
    "sns.heatmap(pd.DataFrame(confusion_matrix(y_test, predicted)), cmap='Blues', annot=True,fmt='g')\n",
    "plt.title('Confusion matrix NAIVE BAYES')"
   ]
  },
  {
   "cell_type": "markdown",
   "metadata": {},
   "source": [
    "# VI. So sánh với các mô hình khác"
   ]
  },
  {
   "cell_type": "code",
   "execution_count": 22,
   "metadata": {},
   "outputs": [
    {
     "name": "stdout",
     "output_type": "stream",
     "text": [
      "-----LogisticRegression-----\n",
      "Model accuracy is 79.95%\n",
      "------------------------------------------------\n",
      "Confusion Matrix:\n",
      "      0   1     2\n",
      "0  1956   3   318\n",
      "1   123  17    53\n",
      "2   464  12  1907\n",
      "------------------------------------------------\n",
      "Classification Report:\n",
      "              precision    recall  f1-score   support\n",
      "\n",
      "           0       0.77      0.86      0.81      2277\n",
      "           1       0.53      0.09      0.15       193\n",
      "           2       0.84      0.80      0.82      2383\n",
      "\n",
      "    accuracy                           0.80      4853\n",
      "   macro avg       0.71      0.58      0.59      4853\n",
      "weighted avg       0.79      0.80      0.79      4853\n",
      "\n",
      "-----KNeighborsClassifier-----\n",
      "Model accuracy is 63.98%\n",
      "------------------------------------------------\n",
      "Confusion Matrix:\n",
      "      0    1     2\n",
      "0  1056  178  1043\n",
      "1    65   39    89\n",
      "2   295   78  2010\n",
      "------------------------------------------------\n",
      "Classification Report:\n",
      "              precision    recall  f1-score   support\n",
      "\n",
      "           0       0.75      0.46      0.57      2277\n",
      "           1       0.13      0.20      0.16       193\n",
      "           2       0.64      0.84      0.73      2383\n",
      "\n",
      "    accuracy                           0.64      4853\n",
      "   macro avg       0.51      0.50      0.49      4853\n",
      "weighted avg       0.67      0.64      0.63      4853\n",
      "\n",
      "-----SupportVectorMachines-----\n",
      "Model accuracy is 80.45%\n",
      "------------------------------------------------\n",
      "Confusion Matrix:\n",
      "      0   1     2\n",
      "0  1904   3   370\n",
      "1   106  16    71\n",
      "2   385  14  1984\n",
      "------------------------------------------------\n",
      "Classification Report:\n",
      "              precision    recall  f1-score   support\n",
      "\n",
      "           0       0.79      0.84      0.82      2277\n",
      "           1       0.48      0.08      0.14       193\n",
      "           2       0.82      0.83      0.83      2383\n",
      "\n",
      "    accuracy                           0.80      4853\n",
      "   macro avg       0.70      0.58      0.59      4853\n",
      "weighted avg       0.79      0.80      0.79      4853\n",
      "\n",
      "-----Decision Trees-----\n",
      "Model accuracy is 74.68%\n",
      "------------------------------------------------\n",
      "Confusion Matrix:\n",
      "      0   1     2\n",
      "0  1650  45   582\n",
      "1    92  23    78\n",
      "2   387  45  1951\n",
      "------------------------------------------------\n",
      "Classification Report:\n",
      "              precision    recall  f1-score   support\n",
      "\n",
      "           0       0.78      0.72      0.75      2277\n",
      "           1       0.20      0.12      0.15       193\n",
      "           2       0.75      0.82      0.78      2383\n",
      "\n",
      "    accuracy                           0.75      4853\n",
      "   macro avg       0.58      0.55      0.56      4853\n",
      "weighted avg       0.74      0.75      0.74      4853\n",
      "\n",
      "-----RandomForestClassifier-----\n",
      "Model accuracy is 78.28%\n",
      "------------------------------------------------\n",
      "Confusion Matrix:\n",
      "      0   1     2\n",
      "0  1811  12   454\n",
      "1   103  21    69\n",
      "2   387  29  1967\n",
      "------------------------------------------------\n",
      "Classification Report:\n",
      "              precision    recall  f1-score   support\n",
      "\n",
      "           0       0.79      0.80      0.79      2277\n",
      "           1       0.34      0.11      0.16       193\n",
      "           2       0.79      0.83      0.81      2383\n",
      "\n",
      "    accuracy                           0.78      4853\n",
      "   macro avg       0.64      0.58      0.59      4853\n",
      "weighted avg       0.77      0.78      0.77      4853\n",
      "\n",
      "-----NaiveBayes-----\n",
      "Model accuracy is 79.41%\n",
      "------------------------------------------------\n",
      "Confusion Matrix:\n",
      "      0  1     2\n",
      "0  1815  0   462\n",
      "1   104  2    87\n",
      "2   346  0  2037\n",
      "------------------------------------------------\n",
      "Classification Report:\n",
      "              precision    recall  f1-score   support\n",
      "\n",
      "           0       0.80      0.80      0.80      2277\n",
      "           1       1.00      0.01      0.02       193\n",
      "           2       0.79      0.85      0.82      2383\n",
      "\n",
      "    accuracy                           0.79      4853\n",
      "   macro avg       0.86      0.55      0.55      4853\n",
      "weighted avg       0.80      0.79      0.78      4853\n",
      "\n",
      "-----AdaBoostClassifier-----\n",
      "Model accuracy is 73.81%\n",
      "------------------------------------------------\n",
      "Confusion Matrix:\n",
      "      0  1     2\n",
      "0  2137  1   139\n",
      "1   169  9    15\n",
      "2   942  5  1436\n",
      "------------------------------------------------\n",
      "Classification Report:\n",
      "              precision    recall  f1-score   support\n",
      "\n",
      "           0       0.66      0.94      0.77      2277\n",
      "           1       0.60      0.05      0.09       193\n",
      "           2       0.90      0.60      0.72      2383\n",
      "\n",
      "    accuracy                           0.74      4853\n",
      "   macro avg       0.72      0.53      0.53      4853\n",
      "weighted avg       0.78      0.74      0.72      4853\n",
      "\n",
      "-----GradientBoostingClassifier-----\n",
      "Model accuracy is 75.54%\n",
      "------------------------------------------------\n",
      "Confusion Matrix:\n",
      "      0   1     2\n",
      "0  2093   6   178\n",
      "1   150  17    26\n",
      "2   810  17  1556\n",
      "------------------------------------------------\n",
      "Classification Report:\n",
      "              precision    recall  f1-score   support\n",
      "\n",
      "           0       0.69      0.92      0.79      2277\n",
      "           1       0.42      0.09      0.15       193\n",
      "           2       0.88      0.65      0.75      2383\n",
      "\n",
      "    accuracy                           0.76      4853\n",
      "   macro avg       0.66      0.55      0.56      4853\n",
      "weighted avg       0.77      0.76      0.74      4853\n",
      "\n",
      "[LightGBM] [Info] Auto-choosing row-wise multi-threading, the overhead of testing was 0.003037 seconds.\n",
      "You can set `force_row_wise=true` to remove the overhead.\n",
      "And if memory is not enough, you can set `force_col_wise=true`.\n",
      "[LightGBM] [Info] Total Bins 9014\n",
      "[LightGBM] [Info] Number of data points in the train set: 11322, number of used features: 350\n",
      "[LightGBM] [Info] Start training from score -0.785424\n",
      "[LightGBM] [Info] Start training from score -3.109945\n",
      "[LightGBM] [Info] Start training from score -0.694208\n",
      "-----LightGBMClassifier-----\n",
      "Model accuracy is 77.64%\n",
      "------------------------------------------------\n",
      "Confusion Matrix:\n",
      "      0   1     2\n",
      "0  1954   5   318\n",
      "1   136  19    38\n",
      "2   571  17  1795\n",
      "------------------------------------------------\n",
      "Classification Report:\n",
      "              precision    recall  f1-score   support\n",
      "\n",
      "           0       0.73      0.86      0.79      2277\n",
      "           1       0.46      0.10      0.16       193\n",
      "           2       0.83      0.75      0.79      2383\n",
      "\n",
      "    accuracy                           0.78      4853\n",
      "   macro avg       0.68      0.57      0.58      4853\n",
      "weighted avg       0.77      0.78      0.77      4853\n",
      "\n",
      "-----XGBoost-----\n",
      "Model accuracy is 74.90%\n",
      "------------------------------------------------\n",
      "Confusion Matrix:\n",
      "      0   1     2\n",
      "0  2107   2   168\n",
      "1   157  14    22\n",
      "2   857  12  1514\n",
      "------------------------------------------------\n",
      "Classification Report:\n",
      "              precision    recall  f1-score   support\n",
      "\n",
      "           0       0.68      0.93      0.78      2277\n",
      "           1       0.50      0.07      0.13       193\n",
      "           2       0.89      0.64      0.74      2383\n",
      "\n",
      "    accuracy                           0.75      4853\n",
      "   macro avg       0.69      0.54      0.55      4853\n",
      "weighted avg       0.77      0.75      0.74      4853\n",
      "\n",
      "Learning rate set to 0.089552\n",
      "0:\tlearn: 1.0451881\ttotal: 172ms\tremaining: 2m 51s\n",
      "100:\tlearn: 0.6018372\ttotal: 3.62s\tremaining: 32.2s\n",
      "200:\tlearn: 0.5608425\ttotal: 7.09s\tremaining: 28.2s\n",
      "300:\tlearn: 0.5425627\ttotal: 10.5s\tremaining: 24.4s\n",
      "400:\tlearn: 0.5301570\ttotal: 14s\tremaining: 20.9s\n",
      "500:\tlearn: 0.5214099\ttotal: 17.5s\tremaining: 17.4s\n",
      "600:\tlearn: 0.5137014\ttotal: 21s\tremaining: 14s\n",
      "700:\tlearn: 0.5076733\ttotal: 24.5s\tremaining: 10.5s\n",
      "800:\tlearn: 0.5022996\ttotal: 28s\tremaining: 6.96s\n",
      "900:\tlearn: 0.4969406\ttotal: 31.5s\tremaining: 3.46s\n",
      "999:\tlearn: 0.4923647\ttotal: 34.9s\tremaining: 0us\n",
      "-----CatBoostRegressor-----\n",
      "Model accuracy is 78.34%\n",
      "------------------------------------------------\n",
      "Confusion Matrix:\n",
      "      0   1     2\n",
      "0  1982   5   290\n",
      "1   141  13    39\n",
      "2   562  14  1807\n",
      "------------------------------------------------\n",
      "Classification Report:\n",
      "              precision    recall  f1-score   support\n",
      "\n",
      "           0       0.74      0.87      0.80      2277\n",
      "           1       0.41      0.07      0.12       193\n",
      "           2       0.85      0.76      0.80      2383\n",
      "\n",
      "    accuracy                           0.78      4853\n",
      "   macro avg       0.66      0.57      0.57      4853\n",
      "weighted avg       0.78      0.78      0.77      4853\n",
      "\n"
     ]
    }
   ],
   "source": [
    "models = {\n",
    "    'LogisticRegression': LogisticRegression(),\n",
    "    'KNeighborsClassifier': KNeighborsClassifier(),\n",
    "    'SupportVectorMachines': svm.SVC(),\n",
    "    'Decision Trees': DecisionTreeClassifier(),\n",
    "    'RandomForestClassifier': RandomForestClassifier(),\n",
    "    'NaiveBayes': MultinomialNB(),\n",
    "    'AdaBoostClassifier': AdaBoostClassifier(learning_rate=0.5, random_state=2),\n",
    "    'GradientBoostingClassifier': GradientBoostingClassifier(),\n",
    "    'LightGBMClassifier': LGBMClassifier(),\n",
    "    'XGBoost': XGBClassifier(objective='reg:squarederror', random_state=42, learning_rate=0.03, n_estimators=150, max_depth=9),\n",
    "    'CatBoostRegressor': CatBoostClassifier(metric_period=100)\n",
    "}\n",
    "confusion_matrixs = []\n",
    "accuracy_score_table = {'accuracy_score':[]}\n",
    "for model_name, model_instance in models.items():\n",
    "    model_instance.fit(X_train, y_train)\n",
    "    predicted = model_instance.predict(X_test)\n",
    "    accuracy_score = metrics.accuracy_score(predicted, y_test)\n",
    "    accuracy_score_table['accuracy_score'].append((accuracy_score*100).round(2))\n",
    "    print(f\"-----{model_name}-----\")\n",
    "    print('Model accuracy is',str('{:04.2f}'.format(accuracy_score*100))+'%')\n",
    "    print('------------------------------------------------')\n",
    "    print('Confusion Matrix:')\n",
    "    print(pd.DataFrame(confusion_matrix(y_test, predicted)))\n",
    "    confusion_matrixs.append(pd.DataFrame(confusion_matrix(y_test, predicted)))\n",
    "    print('------------------------------------------------')\n",
    "    print('Classification Report:')\n",
    "    print(classification_report(y_test, predicted))\n"
   ]
  },
  {
   "cell_type": "code",
   "execution_count": 23,
   "metadata": {},
   "outputs": [
    {
     "data": {
      "text/plain": [
       "{'accuracy_score': [79.95,\n",
       "  63.98,\n",
       "  80.45,\n",
       "  74.68,\n",
       "  78.28,\n",
       "  79.41,\n",
       "  73.81,\n",
       "  75.54,\n",
       "  77.64,\n",
       "  74.9,\n",
       "  78.34]}"
      ]
     },
     "execution_count": 23,
     "metadata": {},
     "output_type": "execute_result"
    }
   ],
   "source": [
    "accuracy_score_table"
   ]
  },
  {
   "cell_type": "code",
   "execution_count": 24,
   "metadata": {},
   "outputs": [],
   "source": [
    "model_names = {'model_name':[]}\n",
    "for model_name, model_instance in models.items():\n",
    "    model_names['model_name'].append(model_name)"
   ]
  },
  {
   "cell_type": "code",
   "execution_count": 25,
   "metadata": {},
   "outputs": [],
   "source": [
    "model_names=pd.DataFrame(model_names)\n",
    "model_accury=pd.DataFrame(accuracy_score_table)"
   ]
  },
  {
   "cell_type": "code",
   "execution_count": 26,
   "metadata": {},
   "outputs": [
    {
     "data": {
      "text/html": [
       "<div>\n",
       "<style scoped>\n",
       "    .dataframe tbody tr th:only-of-type {\n",
       "        vertical-align: middle;\n",
       "    }\n",
       "\n",
       "    .dataframe tbody tr th {\n",
       "        vertical-align: top;\n",
       "    }\n",
       "\n",
       "    .dataframe thead th {\n",
       "        text-align: right;\n",
       "    }\n",
       "</style>\n",
       "<table border=\"1\" class=\"dataframe\">\n",
       "  <thead>\n",
       "    <tr style=\"text-align: right;\">\n",
       "      <th></th>\n",
       "      <th>model_name</th>\n",
       "      <th>accuracy_score (%)</th>\n",
       "    </tr>\n",
       "  </thead>\n",
       "  <tbody>\n",
       "    <tr>\n",
       "      <th>0</th>\n",
       "      <td>LogisticRegression</td>\n",
       "      <td>79.95</td>\n",
       "    </tr>\n",
       "    <tr>\n",
       "      <th>1</th>\n",
       "      <td>KNeighborsClassifier</td>\n",
       "      <td>63.98</td>\n",
       "    </tr>\n",
       "    <tr>\n",
       "      <th>2</th>\n",
       "      <td>SupportVectorMachines</td>\n",
       "      <td>80.45</td>\n",
       "    </tr>\n",
       "    <tr>\n",
       "      <th>3</th>\n",
       "      <td>Decision Trees</td>\n",
       "      <td>74.68</td>\n",
       "    </tr>\n",
       "    <tr>\n",
       "      <th>4</th>\n",
       "      <td>RandomForestClassifier</td>\n",
       "      <td>78.28</td>\n",
       "    </tr>\n",
       "    <tr>\n",
       "      <th>5</th>\n",
       "      <td>NaiveBayes</td>\n",
       "      <td>79.41</td>\n",
       "    </tr>\n",
       "    <tr>\n",
       "      <th>6</th>\n",
       "      <td>AdaBoostClassifier</td>\n",
       "      <td>73.81</td>\n",
       "    </tr>\n",
       "    <tr>\n",
       "      <th>7</th>\n",
       "      <td>GradientBoostingClassifier</td>\n",
       "      <td>75.54</td>\n",
       "    </tr>\n",
       "    <tr>\n",
       "      <th>8</th>\n",
       "      <td>LightGBMClassifier</td>\n",
       "      <td>77.64</td>\n",
       "    </tr>\n",
       "    <tr>\n",
       "      <th>9</th>\n",
       "      <td>XGBoost</td>\n",
       "      <td>74.90</td>\n",
       "    </tr>\n",
       "    <tr>\n",
       "      <th>10</th>\n",
       "      <td>CatBoostRegressor</td>\n",
       "      <td>78.34</td>\n",
       "    </tr>\n",
       "  </tbody>\n",
       "</table>\n",
       "</div>"
      ],
      "text/plain": [
       "                    model_name  accuracy_score (%)\n",
       "0           LogisticRegression               79.95\n",
       "1         KNeighborsClassifier               63.98\n",
       "2        SupportVectorMachines               80.45\n",
       "3               Decision Trees               74.68\n",
       "4       RandomForestClassifier               78.28\n",
       "5                   NaiveBayes               79.41\n",
       "6           AdaBoostClassifier               73.81\n",
       "7   GradientBoostingClassifier               75.54\n",
       "8           LightGBMClassifier               77.64\n",
       "9                      XGBoost               74.90\n",
       "10           CatBoostRegressor               78.34"
      ]
     },
     "execution_count": 26,
     "metadata": {},
     "output_type": "execute_result"
    }
   ],
   "source": [
    "comparison_table = pd.concat([model_names, model_accury],axis=1)\n",
    "comparison_table.columns=['model_name', 'accuracy_score (%)']\n",
    "comparison_table"
   ]
  },
  {
   "cell_type": "code",
   "execution_count": 27,
   "metadata": {},
   "outputs": [
    {
     "data": {
      "image/png": "[encoded data removed]",
      "text/plain": [
       "<Figure size 1000x3000 with 23 Axes>"
      ]
     },
     "metadata": {},
     "output_type": "display_data"
    }
   ],
   "source": [
    "n_rows = 6\n",
    "n_cols = 2\n",
    "size = 5\n",
    "fig, ax = plt.subplots(n_rows,n_cols,figsize=(n_cols*size,n_rows*size))\n",
    "k=-1\n",
    "for i in range(0,n_rows):\n",
    "  for j in range(0,n_cols):\n",
    "    k+=1\n",
    "    if k<11:\n",
    "      ax_i = ax[i,j]\n",
    "      class_names=[0,1] # name  of classes\n",
    "      tick_marks = np.arange(len(class_names))\n",
    "      plt.xticks(tick_marks, class_names)\n",
    "      plt.yticks(tick_marks, class_names)\n",
    "      # create heatmap\n",
    "      sns.heatmap(pd.DataFrame(confusion_matrixs[k]), annot=True, cmap=\"YlGnBu\" ,fmt='g', ax=ax_i)\n",
    "      ax_i.xaxis.set_label_position(\"bottom\")\n",
    "      plt.tight_layout()\n",
    "      ax_i.set_title(model_names.model_name[k])\n",
    "      ax_i.set_ylabel('Actual label')\n",
    "      ax_i.set_xlabel('Predicted label')\n",
    "      plt.tight_layout()"
   ]
  },
  {
   "cell_type": "markdown",
   "metadata": {},
   "source": [
    "# VII. Sử dụng Neural Network"
   ]
  },
  {
   "cell_type": "code",
   "execution_count": 28,
   "metadata": {},
   "outputs": [],
   "source": [
    "# import tensorflow as tf\n",
    "# import keras\n",
    "# from keras import layers\n",
    "# from keras.models import Sequential\n",
    "# from keras.layers import Dense, Dropout"
   ]
  },
  {
   "cell_type": "code",
   "execution_count": 29,
   "metadata": {},
   "outputs": [],
   "source": [
    "# y_train_nn = keras.utils.to_categorical(y_train, num_classes=3)"
   ]
  },
  {
   "cell_type": "code",
   "execution_count": null,
   "metadata": {},
   "outputs": [],
   "source": []
  },
  {
   "cell_type": "code",
   "execution_count": null,
   "metadata": {},
   "outputs": [],
   "source": []
  },
  {
   "cell_type": "markdown",
   "metadata": {},
   "source": [
    "# VIII. Kiểm tra từng từ"
   ]
  },
  {
   "cell_type": "code",
   "execution_count": 30,
   "metadata": {},
   "outputs": [
    {
     "data": {
      "text/html": [
       "<div>\n",
       "<style scoped>\n",
       "    .dataframe tbody tr th:only-of-type {\n",
       "        vertical-align: middle;\n",
       "    }\n",
       "\n",
       "    .dataframe tbody tr th {\n",
       "        vertical-align: top;\n",
       "    }\n",
       "\n",
       "    .dataframe thead th {\n",
       "        text-align: right;\n",
       "    }\n",
       "</style>\n",
       "<table border=\"1\" class=\"dataframe\">\n",
       "  <thead>\n",
       "    <tr style=\"text-align: right;\">\n",
       "      <th></th>\n",
       "      <th>sent</th>\n",
       "      <th>sent_clean</th>\n",
       "      <th>sent_clean_tokenize</th>\n",
       "      <th>sent_clean_tokenize_nosw</th>\n",
       "      <th>wo_stopfreq</th>\n",
       "    </tr>\n",
       "  </thead>\n",
       "  <tbody>\n",
       "    <tr>\n",
       "      <th>0</th>\n",
       "      <td>giảng viên chửi mắng sinh viên</td>\n",
       "      <td>giảng viên chửi mắng sinh viên</td>\n",
       "      <td>giảng_viên chửi mắng sinh_viên</td>\n",
       "      <td>giảng_viên chửi mắng sinh_viên</td>\n",
       "      <td>chửi mắng</td>\n",
       "    </tr>\n",
       "    <tr>\n",
       "      <th>1</th>\n",
       "      <td>giảng viên rất nhiệt tình</td>\n",
       "      <td>giảng viên rất nhiệt tình</td>\n",
       "      <td>giảng_viên rất nhiệt_tình</td>\n",
       "      <td>giảng_viên nhiệt_tình</td>\n",
       "      <td>nhiệt_tình</td>\n",
       "    </tr>\n",
       "  </tbody>\n",
       "</table>\n",
       "</div>"
      ],
      "text/plain": [
       "                             sent                      sent_clean  \\\n",
       "0  giảng viên chửi mắng sinh viên  giảng viên chửi mắng sinh viên   \n",
       "1       giảng viên rất nhiệt tình       giảng viên rất nhiệt tình   \n",
       "\n",
       "              sent_clean_tokenize        sent_clean_tokenize_nosw wo_stopfreq  \n",
       "0  giảng_viên chửi mắng sinh_viên  giảng_viên chửi mắng sinh_viên   chửi mắng  \n",
       "1       giảng_viên rất nhiệt_tình           giảng_viên nhiệt_tình  nhiệt_tình  "
      ]
     },
     "execution_count": 30,
     "metadata": {},
     "output_type": "execute_result"
    }
   ],
   "source": [
    "test_data = pd.DataFrame([[\"giảng viên chửi mắng sinh viên\"], [\"giảng viên rất nhiệt tình\"]])\n",
    "test_data.columns = ['sent']\n",
    "test_data['sent_clean'] = test_data['sent'].apply(cleaning)\n",
    "from underthesea import word_tokenize\n",
    "test_data['sent_clean_tokenize']=test_data['sent_clean'].apply(lambda text: word_tokenize(text,format=\"text\"))\n",
    "test_data['sent_clean_tokenize_nosw']=test_data['sent_clean_tokenize'].apply(lambda x: ' '.join([word for word in x.split() if word not in (stop_words_vn)]))\n",
    "test_data[\"wo_stopfreq\"] = test_data[\"sent_clean_tokenize_nosw\"].apply(lambda text: remove_freqwords(text))\n",
    "test_data"
   ]
  },
  {
   "cell_type": "code",
   "execution_count": 31,
   "metadata": {},
   "outputs": [
    {
     "data": {
      "text/html": [
       "<div>\n",
       "<style scoped>\n",
       "    .dataframe tbody tr th:only-of-type {\n",
       "        vertical-align: middle;\n",
       "    }\n",
       "\n",
       "    .dataframe tbody tr th {\n",
       "        vertical-align: top;\n",
       "    }\n",
       "\n",
       "    .dataframe thead th {\n",
       "        text-align: right;\n",
       "    }\n",
       "</style>\n",
       "<table border=\"1\" class=\"dataframe\">\n",
       "  <thead>\n",
       "    <tr style=\"text-align: right;\">\n",
       "      <th></th>\n",
       "      <th>sent</th>\n",
       "      <th>sentiment</th>\n",
       "    </tr>\n",
       "  </thead>\n",
       "  <tbody>\n",
       "    <tr>\n",
       "      <th>0</th>\n",
       "      <td>giảng viên chửi mắng sinh viên</td>\n",
       "      <td>tiêu cực</td>\n",
       "    </tr>\n",
       "    <tr>\n",
       "      <th>1</th>\n",
       "      <td>giảng viên rất nhiệt tình</td>\n",
       "      <td>tích cực</td>\n",
       "    </tr>\n",
       "  </tbody>\n",
       "</table>\n",
       "</div>"
      ],
      "text/plain": [
       "                             sent sentiment\n",
       "0  giảng viên chửi mắng sinh viên  tiêu cực\n",
       "1       giảng viên rất nhiệt tình  tích cực"
      ]
     },
     "execution_count": 31,
     "metadata": {},
     "output_type": "execute_result"
    }
   ],
   "source": [
    "test_X = cv.transform(test_data['wo_stopfreq'])\n",
    "predicted = MNB.predict(test_X)\n",
    "predicted = pd.DataFrame(predicted)\n",
    "res = pd.concat([test_data['sent'], predicted[0].apply(lambda x: \"tích cực\" if int(x)==2 else \"tiêu cực\" if int(x)==0 else \"trung tính\")], axis=1)\n",
    "res.columns = ['sent', 'sentiment']\n",
    "res"
   ]
  }
 ],
 "metadata": {
  "kernelspec": {
   "display_name": "Python 3 (ipykernel)",
   "language": "python",
   "name": "python3"
  },
  "language_info": {
   "codemirror_mode": {
    "name": "ipython",
    "version": 3
   },
   "file_extension": ".py",
   "mimetype": "text/x-python",
   "name": "python",
   "nbconvert_exporter": "python",
   "pygments_lexer": "ipython3",
   "version": "3.11.5"
  }
 },
 "nbformat": 4,
 "nbformat_minor": 2
}
