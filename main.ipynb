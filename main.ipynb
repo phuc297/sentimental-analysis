{
 "cells": [
  {
   "cell_type": "markdown",
   "metadata": {
    "id": "MuIZwksqJcgy"
   },
   "source": [
    "# I. Import thư viện"
   ]
  },
  {
   "cell_type": "code",
   "execution_count": 21,
   "metadata": {
    "id": "k04R4YWIJcg1"
   },
   "outputs": [],
   "source": [
    "import pandas as pd\n",
    "import warnings\n",
    "warnings.filterwarnings('ignore')\n",
    "import string\n",
    "import seaborn as sns\n",
    "from sklearn.feature_extraction.text import CountVectorizer\n",
    "from nltk.tokenize import RegexpTokenizer\n",
    "from underthesea import word_tokenize\n",
    "from collections import Counter\n",
    "from sklearn.preprocessing import LabelEncoder\n",
    "from sklearn.model_selection import train_test_split\n",
    "from sklearn.naive_bayes import MultinomialNB\n",
    "from sklearn.metrics import classification_report, confusion_matrix\n",
    "from sklearn import metrics\n",
    "from sklearn.feature_extraction.text import TfidfVectorizer\n",
    "from sklearn.linear_model import LogisticRegression\n",
    "from sklearn.ensemble import RandomForestClassifier\n",
    "from sklearn.tree import DecisionTreeClassifier\n",
    "from sklearn import svm\n",
    "from sklearn.model_selection import train_test_split\n",
    "from sklearn.model_selection import StratifiedKFold\n",
    "from sklearn.linear_model  import LogisticRegression\n",
    "from sklearn.neighbors import KNeighborsClassifier\n",
    "from sklearn.ensemble import RandomForestClassifier, GradientBoostingClassifier, AdaBoostClassifier\n",
    "from sklearn import neighbors\n",
    "from lightgbm import LGBMClassifier\n",
    "from xgboost import XGBClassifier\n",
    "from catboost import CatBoostClassifier\n",
    "from sklearn import tree\n",
    "from sklearn.svm import SVC\n",
    "from sklearn import naive_bayes\n",
    "import matplotlib.pyplot as plt\n",
    "import numpy as np"
   ]
  },
  {
   "cell_type": "markdown",
   "metadata": {
    "id": "CZ9vEljgJcg2"
   },
   "source": [
    "# II. Đọc dữ liệu"
   ]
  },
  {
   "cell_type": "code",
   "execution_count": 22,
   "metadata": {
    "id": "FCYfZHpeJcg2",
    "outputId": "3df35aaa-2112-40dc-f9d8-838a9ab1616a"
   },
   "outputs": [
    {
     "data": {
      "text/html": [
       "<div>\n",
       "<style scoped>\n",
       "    .dataframe tbody tr th:only-of-type {\n",
       "        vertical-align: middle;\n",
       "    }\n",
       "\n",
       "    .dataframe tbody tr th {\n",
       "        vertical-align: top;\n",
       "    }\n",
       "\n",
       "    .dataframe thead th {\n",
       "        text-align: right;\n",
       "    }\n",
       "</style>\n",
       "<table border=\"1\" class=\"dataframe\">\n",
       "  <thead>\n",
       "    <tr style=\"text-align: right;\">\n",
       "      <th></th>\n",
       "      <th>sent</th>\n",
       "      <th>sentiment</th>\n",
       "    </tr>\n",
       "  </thead>\n",
       "  <tbody>\n",
       "    <tr>\n",
       "      <th>0</th>\n",
       "      <td>nhiệt tình giảng dạy , gần gũi với sinh viên .</td>\n",
       "      <td>postive</td>\n",
       "    </tr>\n",
       "    <tr>\n",
       "      <th>1</th>\n",
       "      <td>không giúp đỡ sinh viên trong những vấn đề xun...</td>\n",
       "      <td>negative</td>\n",
       "    </tr>\n",
       "    <tr>\n",
       "      <th>2</th>\n",
       "      <td>thời lượng học quá dài , không đảm bảo tiếp th...</td>\n",
       "      <td>negative</td>\n",
       "    </tr>\n",
       "    <tr>\n",
       "      <th>3</th>\n",
       "      <td>nội dung giảng dạy quá nhàm chán , khô khan .</td>\n",
       "      <td>negative</td>\n",
       "    </tr>\n",
       "    <tr>\n",
       "      <th>4</th>\n",
       "      <td>thầy rất tận tình và đi dạy rất đúng giờ .</td>\n",
       "      <td>postive</td>\n",
       "    </tr>\n",
       "  </tbody>\n",
       "</table>\n",
       "</div>"
      ],
      "text/plain": [
       "                                                sent sentiment\n",
       "0     nhiệt tình giảng dạy , gần gũi với sinh viên .   postive\n",
       "1  không giúp đỡ sinh viên trong những vấn đề xun...  negative\n",
       "2  thời lượng học quá dài , không đảm bảo tiếp th...  negative\n",
       "3      nội dung giảng dạy quá nhàm chán , khô khan .  negative\n",
       "4         thầy rất tận tình và đi dạy rất đúng giờ .   postive"
      ]
     },
     "execution_count": 22,
     "metadata": {},
     "output_type": "execute_result"
    }
   ],
   "source": [
    "data =  pd.read_excel(\"data/data.xlsx\")\n",
    "data.head()"
   ]
  },
  {
   "cell_type": "code",
   "execution_count": 23,
   "metadata": {
    "id": "mZmrDqULJcg3"
   },
   "outputs": [],
   "source": [
    "data.isna().sum()\n",
    "data=data.dropna()"
   ]
  },
  {
   "cell_type": "markdown",
   "metadata": {
    "id": "y0yVDm-IJcg3"
   },
   "source": [
    "# III. Phân bố dữ liệu"
   ]
  },
  {
   "cell_type": "code",
   "execution_count": 24,
   "metadata": {
    "id": "HMUxuiWoJcg4"
   },
   "outputs": [],
   "source": [
    "class_count=data['sentiment'].value_counts()\n",
    "class_count =[class_count['negative'],class_count['neutral'],class_count['postive']]"
   ]
  },
  {
   "cell_type": "code",
   "execution_count": 25,
   "metadata": {
    "id": "fLy99If2Jcg4",
    "outputId": "dd739b47-a235-4f6f-a8a3-53119399cec2"
   },
   "outputs": [
    {
     "data": {
      "image/png": "[encoded data removed]",
      "text/plain": [
       "<Figure size 640x480 with 1 Axes>"
      ]
     },
     "metadata": {},
     "output_type": "display_data"
    }
   ],
   "source": [
    "ax=sns.barplot(x=['negative','neutral','positive'], y=class_count, )\n",
    "sum = class_count[0]+class_count[1]+class_count[2]\n",
    "# Thêm chú thích trên từng cột\n",
    "for i, value in enumerate(class_count):\n",
    "    ax.text(i, value + 1, str(round(value/sum*100,2))+'%', ha='center', va='bottom')"
   ]
  },
  {
   "cell_type": "markdown",
   "metadata": {
    "id": "Oc0-7z0xJcg4"
   },
   "source": [
    "# IV. Chia dữ liệu thành tập X và y"
   ]
  },
  {
   "cell_type": "code",
   "execution_count": 26,
   "metadata": {
    "id": "WCUBhCQPJcg4",
    "outputId": "7511d6db-6de7-4491-ddbc-0ef54335c2b6",
    "scrolled": true
   },
   "outputs": [
    {
     "data": {
      "text/html": [
       "<div>\n",
       "<style scoped>\n",
       "    .dataframe tbody tr th:only-of-type {\n",
       "        vertical-align: middle;\n",
       "    }\n",
       "\n",
       "    .dataframe tbody tr th {\n",
       "        vertical-align: top;\n",
       "    }\n",
       "\n",
       "    .dataframe thead th {\n",
       "        text-align: right;\n",
       "    }\n",
       "</style>\n",
       "<table border=\"1\" class=\"dataframe\">\n",
       "  <thead>\n",
       "    <tr style=\"text-align: right;\">\n",
       "      <th></th>\n",
       "      <th>sent</th>\n",
       "    </tr>\n",
       "  </thead>\n",
       "  <tbody>\n",
       "    <tr>\n",
       "      <th>0</th>\n",
       "      <td>nhiệt tình giảng dạy , gần gũi với sinh viên .</td>\n",
       "    </tr>\n",
       "    <tr>\n",
       "      <th>1</th>\n",
       "      <td>không giúp đỡ sinh viên trong những vấn đề xun...</td>\n",
       "    </tr>\n",
       "    <tr>\n",
       "      <th>2</th>\n",
       "      <td>thời lượng học quá dài , không đảm bảo tiếp th...</td>\n",
       "    </tr>\n",
       "    <tr>\n",
       "      <th>3</th>\n",
       "      <td>nội dung giảng dạy quá nhàm chán , khô khan .</td>\n",
       "    </tr>\n",
       "    <tr>\n",
       "      <th>4</th>\n",
       "      <td>thầy rất tận tình và đi dạy rất đúng giờ .</td>\n",
       "    </tr>\n",
       "  </tbody>\n",
       "</table>\n",
       "</div>"
      ],
      "text/plain": [
       "                                                sent\n",
       "0     nhiệt tình giảng dạy , gần gũi với sinh viên .\n",
       "1  không giúp đỡ sinh viên trong những vấn đề xun...\n",
       "2  thời lượng học quá dài , không đảm bảo tiếp th...\n",
       "3      nội dung giảng dạy quá nhàm chán , khô khan .\n",
       "4         thầy rất tận tình và đi dạy rất đúng giờ ."
      ]
     },
     "execution_count": 26,
     "metadata": {},
     "output_type": "execute_result"
    }
   ],
   "source": [
    "X=data.drop(columns=['sentiment'])\n",
    "X.head()"
   ]
  },
  {
   "cell_type": "code",
   "execution_count": 27,
   "metadata": {
    "id": "SJ_EMu3eJcg5",
    "outputId": "2bf3de12-4f8c-40a6-8347-03b34aa3e436"
   },
   "outputs": [
    {
     "data": {
      "text/plain": [
       "0     postive\n",
       "1    negative\n",
       "2    negative\n",
       "3    negative\n",
       "4     postive\n",
       "Name: sentiment, dtype: object"
      ]
     },
     "execution_count": 27,
     "metadata": {},
     "output_type": "execute_result"
    }
   ],
   "source": [
    "y=data['sentiment']\n",
    "y.head()"
   ]
  },
  {
   "cell_type": "markdown",
   "metadata": {
    "id": "yyhMyrGoJcg5"
   },
   "source": [
    "# V. Xử lý dữ liệu"
   ]
  },
  {
   "cell_type": "markdown",
   "metadata": {
    "id": "YvkFuTzWJcg5"
   },
   "source": [
    "## 1. Làm sạch dữ liệu"
   ]
  },
  {
   "cell_type": "code",
   "execution_count": 28,
   "metadata": {
    "id": "_QjtEGoDJcg5"
   },
   "outputs": [],
   "source": [
    "import re\n",
    "def cleaning(text):\n",
    "    # converting to lowercase, removing URL links, special characters, punctuations...\n",
    "    text = str(text)\n",
    "    text = text.lower() # converting to lowercase\n",
    "    text = re.sub('https?://\\S+|www\\.\\S+', '', text) # removing URL links\n",
    "    text = re.sub(r\"\\b\\d+\\b\", \"\", text) # removing number\n",
    "    text = re.sub('<.*?>+', '', text) # removing special characters,\n",
    "    text = re.sub('[%s]' % re.escape(string.punctuation), '', text) # punctuations\n",
    "    text = re.sub('\\n', '', text)\n",
    "    text = re.sub('[’“”…]', '', text)\n",
    "\n",
    "    emoji_pattern = re.compile(\"[\"\n",
    "                           u\"\\U0001F600-\\U0001F64F\"  # emoticons\n",
    "                           u\"\\U0001F300-\\U0001F5FF\"  # symbols & pictographs\n",
    "                           u\"\\U0001F680-\\U0001F6FF\"  # transport & map symbols\n",
    "                           u\"\\U0001F1E0-\\U0001F1FF\"  # flags (iOS)\n",
    "                           u\"\\U00002702-\\U000027B0\"\n",
    "                           u\"\\U000024C2-\\U0001F251\"\n",
    "                           \"]+\", flags=re.UNICODE)\n",
    "    text = emoji_pattern.sub(r'', text)\n",
    "    return text"
   ]
  },
  {
   "cell_type": "code",
   "execution_count": 29,
   "metadata": {
    "id": "5I3TWylKJcg5",
    "outputId": "5e3053fc-f54c-436e-b4cc-b8d198169c86"
   },
   "outputs": [
    {
     "data": {
      "text/html": [
       "<div>\n",
       "<style scoped>\n",
       "    .dataframe tbody tr th:only-of-type {\n",
       "        vertical-align: middle;\n",
       "    }\n",
       "\n",
       "    .dataframe tbody tr th {\n",
       "        vertical-align: top;\n",
       "    }\n",
       "\n",
       "    .dataframe thead th {\n",
       "        text-align: right;\n",
       "    }\n",
       "</style>\n",
       "<table border=\"1\" class=\"dataframe\">\n",
       "  <thead>\n",
       "    <tr style=\"text-align: right;\">\n",
       "      <th></th>\n",
       "      <th>sent</th>\n",
       "      <th>sent_clean</th>\n",
       "    </tr>\n",
       "  </thead>\n",
       "  <tbody>\n",
       "    <tr>\n",
       "      <th>0</th>\n",
       "      <td>nhiệt tình giảng dạy , gần gũi với sinh viên .</td>\n",
       "      <td>nhiệt tình giảng dạy  gần gũi với sinh viên</td>\n",
       "    </tr>\n",
       "    <tr>\n",
       "      <th>1</th>\n",
       "      <td>không giúp đỡ sinh viên trong những vấn đề xun...</td>\n",
       "      <td>không giúp đỡ sinh viên trong những vấn đề xun...</td>\n",
       "    </tr>\n",
       "    <tr>\n",
       "      <th>2</th>\n",
       "      <td>thời lượng học quá dài , không đảm bảo tiếp th...</td>\n",
       "      <td>thời lượng học quá dài  không đảm bảo tiếp thu...</td>\n",
       "    </tr>\n",
       "    <tr>\n",
       "      <th>3</th>\n",
       "      <td>nội dung giảng dạy quá nhàm chán , khô khan .</td>\n",
       "      <td>nội dung giảng dạy quá nhàm chán  khô khan</td>\n",
       "    </tr>\n",
       "    <tr>\n",
       "      <th>4</th>\n",
       "      <td>thầy rất tận tình và đi dạy rất đúng giờ .</td>\n",
       "      <td>thầy rất tận tình và đi dạy rất đúng giờ</td>\n",
       "    </tr>\n",
       "    <tr>\n",
       "      <th>...</th>\n",
       "      <td>...</td>\n",
       "      <td>...</td>\n",
       "    </tr>\n",
       "    <tr>\n",
       "      <th>16172</th>\n",
       "      <td>hướng dẫn lab mơ hồ .</td>\n",
       "      <td>hướng dẫn lab mơ hồ</td>\n",
       "    </tr>\n",
       "    <tr>\n",
       "      <th>16173</th>\n",
       "      <td>thầy cho chúng em những bài tập mang tính thực...</td>\n",
       "      <td>thầy cho chúng em những bài tập mang tính thực...</td>\n",
       "    </tr>\n",
       "    <tr>\n",
       "      <th>16174</th>\n",
       "      <td>thầy không dạy nhiều chủ yếu cho sinh viên tự ...</td>\n",
       "      <td>thầy không dạy nhiều chủ yếu cho sinh viên tự ...</td>\n",
       "    </tr>\n",
       "    <tr>\n",
       "      <th>16175</th>\n",
       "      <td>thầy chưa giải đáp thật chi tiết thắc mắc của ...</td>\n",
       "      <td>thầy chưa giải đáp thật chi tiết thắc mắc của ...</td>\n",
       "    </tr>\n",
       "    <tr>\n",
       "      <th>16176</th>\n",
       "      <td>thầy vừa dạy vừa chat hoặc gọi điện thoại thườ...</td>\n",
       "      <td>thầy vừa dạy vừa chat hoặc gọi điện thoại thườ...</td>\n",
       "    </tr>\n",
       "  </tbody>\n",
       "</table>\n",
       "<p>16175 rows × 2 columns</p>\n",
       "</div>"
      ],
      "text/plain": [
       "                                                    sent  \\\n",
       "0         nhiệt tình giảng dạy , gần gũi với sinh viên .   \n",
       "1      không giúp đỡ sinh viên trong những vấn đề xun...   \n",
       "2      thời lượng học quá dài , không đảm bảo tiếp th...   \n",
       "3          nội dung giảng dạy quá nhàm chán , khô khan .   \n",
       "4             thầy rất tận tình và đi dạy rất đúng giờ .   \n",
       "...                                                  ...   \n",
       "16172                              hướng dẫn lab mơ hồ .   \n",
       "16173  thầy cho chúng em những bài tập mang tính thực...   \n",
       "16174  thầy không dạy nhiều chủ yếu cho sinh viên tự ...   \n",
       "16175  thầy chưa giải đáp thật chi tiết thắc mắc của ...   \n",
       "16176  thầy vừa dạy vừa chat hoặc gọi điện thoại thườ...   \n",
       "\n",
       "                                              sent_clean  \n",
       "0           nhiệt tình giảng dạy  gần gũi với sinh viên   \n",
       "1      không giúp đỡ sinh viên trong những vấn đề xun...  \n",
       "2      thời lượng học quá dài  không đảm bảo tiếp thu...  \n",
       "3            nội dung giảng dạy quá nhàm chán  khô khan   \n",
       "4              thầy rất tận tình và đi dạy rất đúng giờ   \n",
       "...                                                  ...  \n",
       "16172                               hướng dẫn lab mơ hồ   \n",
       "16173  thầy cho chúng em những bài tập mang tính thực...  \n",
       "16174  thầy không dạy nhiều chủ yếu cho sinh viên tự ...  \n",
       "16175  thầy chưa giải đáp thật chi tiết thắc mắc của ...  \n",
       "16176  thầy vừa dạy vừa chat hoặc gọi điện thoại thườ...  \n",
       "\n",
       "[16175 rows x 2 columns]"
      ]
     },
     "execution_count": 29,
     "metadata": {},
     "output_type": "execute_result"
    }
   ],
   "source": [
    "X['sent_clean'] = X['sent'].apply(cleaning)\n",
    "X"
   ]
  },
  {
   "cell_type": "markdown",
   "metadata": {
    "id": "_7xvFBuHJcg5"
   },
   "source": [
    "## 2. Tách từ (word tokenize)"
   ]
  },
  {
   "cell_type": "code",
   "execution_count": 30,
   "metadata": {
    "id": "o0DAesvSJcg5",
    "outputId": "15298688-d467-4b71-c4df-b32919a94639"
   },
   "outputs": [
    {
     "data": {
      "text/html": [
       "<div>\n",
       "<style scoped>\n",
       "    .dataframe tbody tr th:only-of-type {\n",
       "        vertical-align: middle;\n",
       "    }\n",
       "\n",
       "    .dataframe tbody tr th {\n",
       "        vertical-align: top;\n",
       "    }\n",
       "\n",
       "    .dataframe thead th {\n",
       "        text-align: right;\n",
       "    }\n",
       "</style>\n",
       "<table border=\"1\" class=\"dataframe\">\n",
       "  <thead>\n",
       "    <tr style=\"text-align: right;\">\n",
       "      <th></th>\n",
       "      <th>sent_clean</th>\n",
       "      <th>sent_clean_tokenize</th>\n",
       "    </tr>\n",
       "  </thead>\n",
       "  <tbody>\n",
       "    <tr>\n",
       "      <th>0</th>\n",
       "      <td>nhiệt tình giảng dạy  gần gũi với sinh viên</td>\n",
       "      <td>nhiệt_tình giảng_dạy gần_gũi với sinh_viên</td>\n",
       "    </tr>\n",
       "    <tr>\n",
       "      <th>1</th>\n",
       "      <td>không giúp đỡ sinh viên trong những vấn đề xun...</td>\n",
       "      <td>không giúp_đỡ sinh_viên trong những vấn_đề xun...</td>\n",
       "    </tr>\n",
       "    <tr>\n",
       "      <th>2</th>\n",
       "      <td>thời lượng học quá dài  không đảm bảo tiếp thu...</td>\n",
       "      <td>thời_lượng học quá dài không đảm_bảo tiếp_thu ...</td>\n",
       "    </tr>\n",
       "    <tr>\n",
       "      <th>3</th>\n",
       "      <td>nội dung giảng dạy quá nhàm chán  khô khan</td>\n",
       "      <td>nội_dung giảng_dạy quá nhàm chán khô khan</td>\n",
       "    </tr>\n",
       "    <tr>\n",
       "      <th>4</th>\n",
       "      <td>thầy rất tận tình và đi dạy rất đúng giờ</td>\n",
       "      <td>thầy rất tận_tình và đi dạy rất đúng giờ</td>\n",
       "    </tr>\n",
       "    <tr>\n",
       "      <th>...</th>\n",
       "      <td>...</td>\n",
       "      <td>...</td>\n",
       "    </tr>\n",
       "    <tr>\n",
       "      <th>16172</th>\n",
       "      <td>hướng dẫn lab mơ hồ</td>\n",
       "      <td>hướng_dẫn lab mơ_hồ</td>\n",
       "    </tr>\n",
       "    <tr>\n",
       "      <th>16173</th>\n",
       "      <td>thầy cho chúng em những bài tập mang tính thực...</td>\n",
       "      <td>thầy cho chúng_em những bài_tập mang tính thực...</td>\n",
       "    </tr>\n",
       "    <tr>\n",
       "      <th>16174</th>\n",
       "      <td>thầy không dạy nhiều chủ yếu cho sinh viên tự ...</td>\n",
       "      <td>thầy không dạy nhiều chủ_yếu cho sinh_viên tự ...</td>\n",
       "    </tr>\n",
       "    <tr>\n",
       "      <th>16175</th>\n",
       "      <td>thầy chưa giải đáp thật chi tiết thắc mắc của ...</td>\n",
       "      <td>thầy chưa giải_đáp thật chi_tiết thắc_mắc của ...</td>\n",
       "    </tr>\n",
       "    <tr>\n",
       "      <th>16176</th>\n",
       "      <td>thầy vừa dạy vừa chat hoặc gọi điện thoại thườ...</td>\n",
       "      <td>thầy vừa dạy vừa chat hoặc gọi điện_thoại thườ...</td>\n",
       "    </tr>\n",
       "  </tbody>\n",
       "</table>\n",
       "<p>16175 rows × 2 columns</p>\n",
       "</div>"
      ],
      "text/plain": [
       "                                              sent_clean  \\\n",
       "0           nhiệt tình giảng dạy  gần gũi với sinh viên    \n",
       "1      không giúp đỡ sinh viên trong những vấn đề xun...   \n",
       "2      thời lượng học quá dài  không đảm bảo tiếp thu...   \n",
       "3            nội dung giảng dạy quá nhàm chán  khô khan    \n",
       "4              thầy rất tận tình và đi dạy rất đúng giờ    \n",
       "...                                                  ...   \n",
       "16172                               hướng dẫn lab mơ hồ    \n",
       "16173  thầy cho chúng em những bài tập mang tính thực...   \n",
       "16174  thầy không dạy nhiều chủ yếu cho sinh viên tự ...   \n",
       "16175  thầy chưa giải đáp thật chi tiết thắc mắc của ...   \n",
       "16176  thầy vừa dạy vừa chat hoặc gọi điện thoại thườ...   \n",
       "\n",
       "                                     sent_clean_tokenize  \n",
       "0             nhiệt_tình giảng_dạy gần_gũi với sinh_viên  \n",
       "1      không giúp_đỡ sinh_viên trong những vấn_đề xun...  \n",
       "2      thời_lượng học quá dài không đảm_bảo tiếp_thu ...  \n",
       "3              nội_dung giảng_dạy quá nhàm chán khô khan  \n",
       "4               thầy rất tận_tình và đi dạy rất đúng giờ  \n",
       "...                                                  ...  \n",
       "16172                                hướng_dẫn lab mơ_hồ  \n",
       "16173  thầy cho chúng_em những bài_tập mang tính thực...  \n",
       "16174  thầy không dạy nhiều chủ_yếu cho sinh_viên tự ...  \n",
       "16175  thầy chưa giải_đáp thật chi_tiết thắc_mắc của ...  \n",
       "16176  thầy vừa dạy vừa chat hoặc gọi điện_thoại thườ...  \n",
       "\n",
       "[16175 rows x 2 columns]"
      ]
     },
     "execution_count": 30,
     "metadata": {},
     "output_type": "execute_result"
    }
   ],
   "source": [
    "X['sent_clean_tokenize']=X['sent_clean'].apply(lambda text: word_tokenize(text,format=\"text\"))\n",
    "X.iloc[:,-2:]"
   ]
  },
  {
   "cell_type": "markdown",
   "metadata": {
    "id": "zhacrLfAJcg6"
   },
   "source": [
    "## 3. Loại bỏ stop words"
   ]
  },
  {
   "cell_type": "code",
   "execution_count": 31,
   "metadata": {
    "id": "XPhy52TUJcg6"
   },
   "outputs": [],
   "source": [
    "pos_words = ['nhiệt_tình', 'tận_tình', 'tận_tâm', 'hay']\n",
    "neg_words = ['không', 'chưa']"
   ]
  },
  {
   "cell_type": "code",
   "execution_count": 32,
   "metadata": {
    "id": "sm0qPsPmJcg6"
   },
   "outputs": [],
   "source": [
    "my_file = open(\"data/stop words.txt\", \"r\", encoding=\"utf8\")\n",
    "data_file = my_file.read()\n",
    "stop_words_vn = data_file.split(\"\\n\")\n",
    "my_file.close()"
   ]
  },
  {
   "cell_type": "code",
   "execution_count": 33,
   "metadata": {
    "id": "Jun6r8-5Jcg6"
   },
   "outputs": [],
   "source": [
    "def remove_stop_word(x):\n",
    "    nosw = ''\n",
    "    for word in x.split():\n",
    "        if word in pos_words or word in neg_words:\n",
    "            nosw+=word+' '\n",
    "            continue\n",
    "        if word not in stop_words_vn:\n",
    "            nosw+=word+' '\n",
    "            continue\n",
    "    return nosw"
   ]
  },
  {
   "cell_type": "code",
   "execution_count": 34,
   "metadata": {
    "id": "X2X0_QWOJcg6",
    "outputId": "33307c7d-de7e-4228-a682-e2ebac8cdd5d"
   },
   "outputs": [
    {
     "data": {
      "text/html": [
       "<div>\n",
       "<style scoped>\n",
       "    .dataframe tbody tr th:only-of-type {\n",
       "        vertical-align: middle;\n",
       "    }\n",
       "\n",
       "    .dataframe tbody tr th {\n",
       "        vertical-align: top;\n",
       "    }\n",
       "\n",
       "    .dataframe thead th {\n",
       "        text-align: right;\n",
       "    }\n",
       "</style>\n",
       "<table border=\"1\" class=\"dataframe\">\n",
       "  <thead>\n",
       "    <tr style=\"text-align: right;\">\n",
       "      <th></th>\n",
       "      <th>sent_clean_tokenize</th>\n",
       "      <th>sent_clean_tokenize_nosw</th>\n",
       "    </tr>\n",
       "  </thead>\n",
       "  <tbody>\n",
       "    <tr>\n",
       "      <th>0</th>\n",
       "      <td>nhiệt_tình giảng_dạy gần_gũi với sinh_viên</td>\n",
       "      <td>nhiệt_tình giảng_dạy gần_gũi sinh_viên</td>\n",
       "    </tr>\n",
       "    <tr>\n",
       "      <th>1</th>\n",
       "      <td>không giúp_đỡ sinh_viên trong những vấn_đề xun...</td>\n",
       "      <td>không giúp_đỡ sinh_viên vấn_đề xung_quanh</td>\n",
       "    </tr>\n",
       "    <tr>\n",
       "      <th>2</th>\n",
       "      <td>thời_lượng học quá dài không đảm_bảo tiếp_thu ...</td>\n",
       "      <td>thời_lượng học không đảm_bảo tiếp_thu hiệu_quả</td>\n",
       "    </tr>\n",
       "    <tr>\n",
       "      <th>3</th>\n",
       "      <td>nội_dung giảng_dạy quá nhàm chán khô khan</td>\n",
       "      <td>nội_dung giảng_dạy nhàm chán khô khan</td>\n",
       "    </tr>\n",
       "    <tr>\n",
       "      <th>4</th>\n",
       "      <td>thầy rất tận_tình và đi dạy rất đúng giờ</td>\n",
       "      <td>thầy tận_tình đi dạy</td>\n",
       "    </tr>\n",
       "    <tr>\n",
       "      <th>...</th>\n",
       "      <td>...</td>\n",
       "      <td>...</td>\n",
       "    </tr>\n",
       "    <tr>\n",
       "      <th>16172</th>\n",
       "      <td>hướng_dẫn lab mơ_hồ</td>\n",
       "      <td>hướng_dẫn lab mơ_hồ</td>\n",
       "    </tr>\n",
       "    <tr>\n",
       "      <th>16173</th>\n",
       "      <td>thầy cho chúng_em những bài_tập mang tính thực...</td>\n",
       "      <td>thầy chúng_em bài_tập thực_hành thực_tiễn thực...</td>\n",
       "    </tr>\n",
       "    <tr>\n",
       "      <th>16174</th>\n",
       "      <td>thầy không dạy nhiều chủ_yếu cho sinh_viên tự ...</td>\n",
       "      <td>thầy không dạy chủ_yếu sinh_viên tìm_hiểu</td>\n",
       "    </tr>\n",
       "    <tr>\n",
       "      <th>16175</th>\n",
       "      <td>thầy chưa giải_đáp thật chi_tiết thắc_mắc của ...</td>\n",
       "      <td>thầy chưa giải_đáp chi_tiết thắc_mắc sinh_viên</td>\n",
       "    </tr>\n",
       "    <tr>\n",
       "      <th>16176</th>\n",
       "      <td>thầy vừa dạy vừa chat hoặc gọi điện_thoại thườ...</td>\n",
       "      <td>thầy dạy chat gọi điện_thoại thường_xuyên</td>\n",
       "    </tr>\n",
       "  </tbody>\n",
       "</table>\n",
       "<p>16175 rows × 2 columns</p>\n",
       "</div>"
      ],
      "text/plain": [
       "                                     sent_clean_tokenize  \\\n",
       "0             nhiệt_tình giảng_dạy gần_gũi với sinh_viên   \n",
       "1      không giúp_đỡ sinh_viên trong những vấn_đề xun...   \n",
       "2      thời_lượng học quá dài không đảm_bảo tiếp_thu ...   \n",
       "3              nội_dung giảng_dạy quá nhàm chán khô khan   \n",
       "4               thầy rất tận_tình và đi dạy rất đúng giờ   \n",
       "...                                                  ...   \n",
       "16172                                hướng_dẫn lab mơ_hồ   \n",
       "16173  thầy cho chúng_em những bài_tập mang tính thực...   \n",
       "16174  thầy không dạy nhiều chủ_yếu cho sinh_viên tự ...   \n",
       "16175  thầy chưa giải_đáp thật chi_tiết thắc_mắc của ...   \n",
       "16176  thầy vừa dạy vừa chat hoặc gọi điện_thoại thườ...   \n",
       "\n",
       "                                sent_clean_tokenize_nosw  \n",
       "0                nhiệt_tình giảng_dạy gần_gũi sinh_viên   \n",
       "1             không giúp_đỡ sinh_viên vấn_đề xung_quanh   \n",
       "2        thời_lượng học không đảm_bảo tiếp_thu hiệu_quả   \n",
       "3                 nội_dung giảng_dạy nhàm chán khô khan   \n",
       "4                                  thầy tận_tình đi dạy   \n",
       "...                                                  ...  \n",
       "16172                               hướng_dẫn lab mơ_hồ   \n",
       "16173  thầy chúng_em bài_tập thực_hành thực_tiễn thực...  \n",
       "16174         thầy không dạy chủ_yếu sinh_viên tìm_hiểu   \n",
       "16175    thầy chưa giải_đáp chi_tiết thắc_mắc sinh_viên   \n",
       "16176         thầy dạy chat gọi điện_thoại thường_xuyên   \n",
       "\n",
       "[16175 rows x 2 columns]"
      ]
     },
     "execution_count": 34,
     "metadata": {},
     "output_type": "execute_result"
    }
   ],
   "source": [
    "X['sent_clean_tokenize_nosw']=X['sent_clean_tokenize'].apply(remove_stop_word)\n",
    "X.iloc[:,-2:]"
   ]
  },
  {
   "cell_type": "markdown",
   "metadata": {
    "id": "McNvY5XzJcg6"
   },
   "source": [
    "## 4. Xóa bỏ các từ xuất hiện nhiều lần"
   ]
  },
  {
   "cell_type": "code",
   "execution_count": 35,
   "metadata": {
    "id": "ZBcDs4zqJcg6"
   },
   "outputs": [],
   "source": [
    "pos_words = ['nhiệt_tình', 'tận_tình', 'tận_tâm', 'hay', 'dễ']\n",
    "neg_words = ['không', 'chưa']"
   ]
  },
  {
   "cell_type": "code",
   "execution_count": 36,
   "metadata": {
    "id": "pbqwIo0lJcg6",
    "outputId": "97546837-466b-4f31-8401-cf768f29045f"
   },
   "outputs": [
    {
     "data": {
      "text/plain": [
       "[('thầy', 4335),\n",
       " ('sinh_viên', 3755),\n",
       " ('dạy', 3074),\n",
       " ('và', 2904),\n",
       " ('rất', 2801)]"
      ]
     },
     "execution_count": 36,
     "metadata": {},
     "output_type": "execute_result"
    }
   ],
   "source": [
    "cnt = Counter()\n",
    "for text in X[\"sent_clean_tokenize\"].values:\n",
    "    for word in str(text).split():\n",
    "        if word not in pos_words and word not in neg_words:\n",
    "            cnt[word] += 1\n",
    "cnt.most_common(5)"
   ]
  },
  {
   "cell_type": "code",
   "execution_count": 37,
   "metadata": {
    "id": "2yqTGMdWJcg6",
    "outputId": "5b1144d5-cbe6-4118-a359-2a52f16a3f1d"
   },
   "outputs": [
    {
     "data": {
      "application/vnd.plotly.v1+json": {
       "config": {
        "plotlyServerURL": "https://plot.ly"
       },
       "data": [
        {
         "alignmentgroup": "True",
         "hovertemplate": "count=%{x}<br>word=%{y}<extra></extra>",
         "legendgroup": "",
         "marker": {
          "color": "#636efa",
          "pattern": {
           "shape": ""
          }
         },
         "name": "",
         "offsetgroup": "",
         "orientation": "h",
         "showlegend": false,
         "textposition": "auto",
         "type": "bar",
         "x": [
          4335,
          3755,
          3074,
          2904,
          2801,
          2386,
          2341,
          2318,
          2278,
          2234,
          1729,
          1625,
          1512,
          1470,
          1467,
          1421,
          1367,
          1360,
          1340,
          1301
         ],
         "xaxis": "x",
         "y": [
          "thầy",
          "sinh_viên",
          "dạy",
          "và",
          "rất",
          "cho",
          "có",
          "hiểu",
          "nhiều",
          "giảng_viên",
          "học",
          "cô",
          "nên",
          "bài_tập",
          "bài",
          "được",
          "của",
          "giảng_dạy",
          "với",
          "hơn"
         ],
         "yaxis": "y"
        }
       ],
       "layout": {
        "barmode": "relative",
        "height": 700,
        "legend": {
         "tracegroupgap": 0
        },
        "template": {
         "data": {
          "bar": [
           {
            "error_x": {
             "color": "#2a3f5f"
            },
            "error_y": {
             "color": "#2a3f5f"
            },
            "marker": {
             "line": {
              "color": "#E5ECF6",
              "width": 0.5
             },
             "pattern": {
              "fillmode": "overlay",
              "size": 10,
              "solidity": 0.2
             }
            },
            "type": "bar"
           }
          ],
          "barpolar": [
           {
            "marker": {
             "line": {
              "color": "#E5ECF6",
              "width": 0.5
             },
             "pattern": {
              "fillmode": "overlay",
              "size": 10,
              "solidity": 0.2
             }
            },
            "type": "barpolar"
           }
          ],
          "carpet": [
           {
            "aaxis": {
             "endlinecolor": "#2a3f5f",
             "gridcolor": "white",
             "linecolor": "white",
             "minorgridcolor": "white",
             "startlinecolor": "#2a3f5f"
            },
            "baxis": {
             "endlinecolor": "#2a3f5f",
             "gridcolor": "white",
             "linecolor": "white",
             "minorgridcolor": "white",
             "startlinecolor": "#2a3f5f"
            },
            "type": "carpet"
           }
          ],
          "choropleth": [
           {
            "colorbar": {
             "outlinewidth": 0,
             "ticks": ""
            },
            "type": "choropleth"
           }
          ],
          "contour": [
           {
            "colorbar": {
             "outlinewidth": 0,
             "ticks": ""
            },
            "colorscale": [
             [
              0,
              "#0d0887"
             ],
             [
              0.1111111111111111,
              "#46039f"
             ],
             [
              0.2222222222222222,
              "#7201a8"
             ],
             [
              0.3333333333333333,
              "#9c179e"
             ],
             [
              0.4444444444444444,
              "#bd3786"
             ],
             [
              0.5555555555555556,
              "#d8576b"
             ],
             [
              0.6666666666666666,
              "#ed7953"
             ],
             [
              0.7777777777777778,
              "#fb9f3a"
             ],
             [
              0.8888888888888888,
              "#fdca26"
             ],
             [
              1,
              "#f0f921"
             ]
            ],
            "type": "contour"
           }
          ],
          "contourcarpet": [
           {
            "colorbar": {
             "outlinewidth": 0,
             "ticks": ""
            },
            "type": "contourcarpet"
           }
          ],
          "heatmap": [
           {
            "colorbar": {
             "outlinewidth": 0,
             "ticks": ""
            },
            "colorscale": [
             [
              0,
              "#0d0887"
             ],
             [
              0.1111111111111111,
              "#46039f"
             ],
             [
              0.2222222222222222,
              "#7201a8"
             ],
             [
              0.3333333333333333,
              "#9c179e"
             ],
             [
              0.4444444444444444,
              "#bd3786"
             ],
             [
              0.5555555555555556,
              "#d8576b"
             ],
             [
              0.6666666666666666,
              "#ed7953"
             ],
             [
              0.7777777777777778,
              "#fb9f3a"
             ],
             [
              0.8888888888888888,
              "#fdca26"
             ],
             [
              1,
              "#f0f921"
             ]
            ],
            "type": "heatmap"
           }
          ],
          "heatmapgl": [
           {
            "colorbar": {
             "outlinewidth": 0,
             "ticks": ""
            },
            "colorscale": [
             [
              0,
              "#0d0887"
             ],
             [
              0.1111111111111111,
              "#46039f"
             ],
             [
              0.2222222222222222,
              "#7201a8"
             ],
             [
              0.3333333333333333,
              "#9c179e"
             ],
             [
              0.4444444444444444,
              "#bd3786"
             ],
             [
              0.5555555555555556,
              "#d8576b"
             ],
             [
              0.6666666666666666,
              "#ed7953"
             ],
             [
              0.7777777777777778,
              "#fb9f3a"
             ],
             [
              0.8888888888888888,
              "#fdca26"
             ],
             [
              1,
              "#f0f921"
             ]
            ],
            "type": "heatmapgl"
           }
          ],
          "histogram": [
           {
            "marker": {
             "pattern": {
              "fillmode": "overlay",
              "size": 10,
              "solidity": 0.2
             }
            },
            "type": "histogram"
           }
          ],
          "histogram2d": [
           {
            "colorbar": {
             "outlinewidth": 0,
             "ticks": ""
            },
            "colorscale": [
             [
              0,
              "#0d0887"
             ],
             [
              0.1111111111111111,
              "#46039f"
             ],
             [
              0.2222222222222222,
              "#7201a8"
             ],
             [
              0.3333333333333333,
              "#9c179e"
             ],
             [
              0.4444444444444444,
              "#bd3786"
             ],
             [
              0.5555555555555556,
              "#d8576b"
             ],
             [
              0.6666666666666666,
              "#ed7953"
             ],
             [
              0.7777777777777778,
              "#fb9f3a"
             ],
             [
              0.8888888888888888,
              "#fdca26"
             ],
             [
              1,
              "#f0f921"
             ]
            ],
            "type": "histogram2d"
           }
          ],
          "histogram2dcontour": [
           {
            "colorbar": {
             "outlinewidth": 0,
             "ticks": ""
            },
            "colorscale": [
             [
              0,
              "#0d0887"
             ],
             [
              0.1111111111111111,
              "#46039f"
             ],
             [
              0.2222222222222222,
              "#7201a8"
             ],
             [
              0.3333333333333333,
              "#9c179e"
             ],
             [
              0.4444444444444444,
              "#bd3786"
             ],
             [
              0.5555555555555556,
              "#d8576b"
             ],
             [
              0.6666666666666666,
              "#ed7953"
             ],
             [
              0.7777777777777778,
              "#fb9f3a"
             ],
             [
              0.8888888888888888,
              "#fdca26"
             ],
             [
              1,
              "#f0f921"
             ]
            ],
            "type": "histogram2dcontour"
           }
          ],
          "mesh3d": [
           {
            "colorbar": {
             "outlinewidth": 0,
             "ticks": ""
            },
            "type": "mesh3d"
           }
          ],
          "parcoords": [
           {
            "line": {
             "colorbar": {
              "outlinewidth": 0,
              "ticks": ""
             }
            },
            "type": "parcoords"
           }
          ],
          "pie": [
           {
            "automargin": true,
            "type": "pie"
           }
          ],
          "scatter": [
           {
            "fillpattern": {
             "fillmode": "overlay",
             "size": 10,
             "solidity": 0.2
            },
            "type": "scatter"
           }
          ],
          "scatter3d": [
           {
            "line": {
             "colorbar": {
              "outlinewidth": 0,
              "ticks": ""
             }
            },
            "marker": {
             "colorbar": {
              "outlinewidth": 0,
              "ticks": ""
             }
            },
            "type": "scatter3d"
           }
          ],
          "scattercarpet": [
           {
            "marker": {
             "colorbar": {
              "outlinewidth": 0,
              "ticks": ""
             }
            },
            "type": "scattercarpet"
           }
          ],
          "scattergeo": [
           {
            "marker": {
             "colorbar": {
              "outlinewidth": 0,
              "ticks": ""
             }
            },
            "type": "scattergeo"
           }
          ],
          "scattergl": [
           {
            "marker": {
             "colorbar": {
              "outlinewidth": 0,
              "ticks": ""
             }
            },
            "type": "scattergl"
           }
          ],
          "scattermapbox": [
           {
            "marker": {
             "colorbar": {
              "outlinewidth": 0,
              "ticks": ""
             }
            },
            "type": "scattermapbox"
           }
          ],
          "scatterpolar": [
           {
            "marker": {
             "colorbar": {
              "outlinewidth": 0,
              "ticks": ""
             }
            },
            "type": "scatterpolar"
           }
          ],
          "scatterpolargl": [
           {
            "marker": {
             "colorbar": {
              "outlinewidth": 0,
              "ticks": ""
             }
            },
            "type": "scatterpolargl"
           }
          ],
          "scatterternary": [
           {
            "marker": {
             "colorbar": {
              "outlinewidth": 0,
              "ticks": ""
             }
            },
            "type": "scatterternary"
           }
          ],
          "surface": [
           {
            "colorbar": {
             "outlinewidth": 0,
             "ticks": ""
            },
            "colorscale": [
             [
              0,
              "#0d0887"
             ],
             [
              0.1111111111111111,
              "#46039f"
             ],
             [
              0.2222222222222222,
              "#7201a8"
             ],
             [
              0.3333333333333333,
              "#9c179e"
             ],
             [
              0.4444444444444444,
              "#bd3786"
             ],
             [
              0.5555555555555556,
              "#d8576b"
             ],
             [
              0.6666666666666666,
              "#ed7953"
             ],
             [
              0.7777777777777778,
              "#fb9f3a"
             ],
             [
              0.8888888888888888,
              "#fdca26"
             ],
             [
              1,
              "#f0f921"
             ]
            ],
            "type": "surface"
           }
          ],
          "table": [
           {
            "cells": {
             "fill": {
              "color": "#EBF0F8"
             },
             "line": {
              "color": "white"
             }
            },
            "header": {
             "fill": {
              "color": "#C8D4E3"
             },
             "line": {
              "color": "white"
             }
            },
            "type": "table"
           }
          ]
         },
         "layout": {
          "annotationdefaults": {
           "arrowcolor": "#2a3f5f",
           "arrowhead": 0,
           "arrowwidth": 1
          },
          "autotypenumbers": "strict",
          "coloraxis": {
           "colorbar": {
            "outlinewidth": 0,
            "ticks": ""
           }
          },
          "colorscale": {
           "diverging": [
            [
             0,
             "#8e0152"
            ],
            [
             0.1,
             "#c51b7d"
            ],
            [
             0.2,
             "#de77ae"
            ],
            [
             0.3,
             "#f1b6da"
            ],
            [
             0.4,
             "#fde0ef"
            ],
            [
             0.5,
             "#f7f7f7"
            ],
            [
             0.6,
             "#e6f5d0"
            ],
            [
             0.7,
             "#b8e186"
            ],
            [
             0.8,
             "#7fbc41"
            ],
            [
             0.9,
             "#4d9221"
            ],
            [
             1,
             "#276419"
            ]
           ],
           "sequential": [
            [
             0,
             "#0d0887"
            ],
            [
             0.1111111111111111,
             "#46039f"
            ],
            [
             0.2222222222222222,
             "#7201a8"
            ],
            [
             0.3333333333333333,
             "#9c179e"
            ],
            [
             0.4444444444444444,
             "#bd3786"
            ],
            [
             0.5555555555555556,
             "#d8576b"
            ],
            [
             0.6666666666666666,
             "#ed7953"
            ],
            [
             0.7777777777777778,
             "#fb9f3a"
            ],
            [
             0.8888888888888888,
             "#fdca26"
            ],
            [
             1,
             "#f0f921"
            ]
           ],
           "sequentialminus": [
            [
             0,
             "#0d0887"
            ],
            [
             0.1111111111111111,
             "#46039f"
            ],
            [
             0.2222222222222222,
             "#7201a8"
            ],
            [
             0.3333333333333333,
             "#9c179e"
            ],
            [
             0.4444444444444444,
             "#bd3786"
            ],
            [
             0.5555555555555556,
             "#d8576b"
            ],
            [
             0.6666666666666666,
             "#ed7953"
            ],
            [
             0.7777777777777778,
             "#fb9f3a"
            ],
            [
             0.8888888888888888,
             "#fdca26"
            ],
            [
             1,
             "#f0f921"
            ]
           ]
          },
          "colorway": [
           "#636efa",
           "#EF553B",
           "#00cc96",
           "#ab63fa",
           "#FFA15A",
           "#19d3f3",
           "#FF6692",
           "#B6E880",
           "#FF97FF",
           "#FECB52"
          ],
          "font": {
           "color": "#2a3f5f"
          },
          "geo": {
           "bgcolor": "white",
           "lakecolor": "white",
           "landcolor": "#E5ECF6",
           "showlakes": true,
           "showland": true,
           "subunitcolor": "white"
          },
          "hoverlabel": {
           "align": "left"
          },
          "hovermode": "closest",
          "mapbox": {
           "style": "light"
          },
          "paper_bgcolor": "white",
          "plot_bgcolor": "#E5ECF6",
          "polar": {
           "angularaxis": {
            "gridcolor": "white",
            "linecolor": "white",
            "ticks": ""
           },
           "bgcolor": "#E5ECF6",
           "radialaxis": {
            "gridcolor": "white",
            "linecolor": "white",
            "ticks": ""
           }
          },
          "scene": {
           "xaxis": {
            "backgroundcolor": "#E5ECF6",
            "gridcolor": "white",
            "gridwidth": 2,
            "linecolor": "white",
            "showbackground": true,
            "ticks": "",
            "zerolinecolor": "white"
           },
           "yaxis": {
            "backgroundcolor": "#E5ECF6",
            "gridcolor": "white",
            "gridwidth": 2,
            "linecolor": "white",
            "showbackground": true,
            "ticks": "",
            "zerolinecolor": "white"
           },
           "zaxis": {
            "backgroundcolor": "#E5ECF6",
            "gridcolor": "white",
            "gridwidth": 2,
            "linecolor": "white",
            "showbackground": true,
            "ticks": "",
            "zerolinecolor": "white"
           }
          },
          "shapedefaults": {
           "line": {
            "color": "#2a3f5f"
           }
          },
          "ternary": {
           "aaxis": {
            "gridcolor": "white",
            "linecolor": "white",
            "ticks": ""
           },
           "baxis": {
            "gridcolor": "white",
            "linecolor": "white",
            "ticks": ""
           },
           "bgcolor": "#E5ECF6",
           "caxis": {
            "gridcolor": "white",
            "linecolor": "white",
            "ticks": ""
           }
          },
          "title": {
           "x": 0.05
          },
          "xaxis": {
           "automargin": true,
           "gridcolor": "white",
           "linecolor": "white",
           "ticks": "",
           "title": {
            "standoff": 15
           },
           "zerolinecolor": "white",
           "zerolinewidth": 2
          },
          "yaxis": {
           "automargin": true,
           "gridcolor": "white",
           "linecolor": "white",
           "ticks": "",
           "title": {
            "standoff": 15
           },
           "zerolinecolor": "white",
           "zerolinewidth": 2
          }
         }
        },
        "title": {
         "text": "Commmon Words in Text"
        },
        "width": 700,
        "xaxis": {
         "anchor": "y",
         "domain": [
          0,
          1
         ],
         "title": {
          "text": "count"
         }
        },
        "yaxis": {
         "anchor": "x",
         "domain": [
          0,
          1
         ],
         "title": {
          "text": "word"
         }
        }
       }
      }
     },
     "metadata": {},
     "output_type": "display_data"
    }
   ],
   "source": [
    "temp = pd.DataFrame(cnt.most_common(20))\n",
    "temp.columns=['word', 'count']\n",
    "import plotly.express as px\n",
    "px.bar(temp, x=\"count\", y=\"word\", title='Commmon Words in Text', orientation='h',\n",
    "             width=700, height=700)"
   ]
  },
  {
   "cell_type": "code",
   "execution_count": 38,
   "metadata": {
    "id": "sm4eA4L8Jcg6",
    "outputId": "637d35b1-4674-4e48-86a3-08506d4060ca"
   },
   "outputs": [
    {
     "data": {
      "text/html": [
       "<div>\n",
       "<style scoped>\n",
       "    .dataframe tbody tr th:only-of-type {\n",
       "        vertical-align: middle;\n",
       "    }\n",
       "\n",
       "    .dataframe tbody tr th {\n",
       "        vertical-align: top;\n",
       "    }\n",
       "\n",
       "    .dataframe thead th {\n",
       "        text-align: right;\n",
       "    }\n",
       "</style>\n",
       "<table border=\"1\" class=\"dataframe\">\n",
       "  <thead>\n",
       "    <tr style=\"text-align: right;\">\n",
       "      <th></th>\n",
       "      <th>sent_clean_tokenize_nosw</th>\n",
       "      <th>sent_clean_tokenize_nosw_nofreq</th>\n",
       "    </tr>\n",
       "  </thead>\n",
       "  <tbody>\n",
       "    <tr>\n",
       "      <th>0</th>\n",
       "      <td>nhiệt_tình giảng_dạy gần_gũi sinh_viên</td>\n",
       "      <td>nhiệt_tình gần_gũi</td>\n",
       "    </tr>\n",
       "    <tr>\n",
       "      <th>1</th>\n",
       "      <td>không giúp_đỡ sinh_viên vấn_đề xung_quanh</td>\n",
       "      <td>không giúp_đỡ vấn_đề xung_quanh</td>\n",
       "    </tr>\n",
       "    <tr>\n",
       "      <th>2</th>\n",
       "      <td>thời_lượng học không đảm_bảo tiếp_thu hiệu_quả</td>\n",
       "      <td>thời_lượng không đảm_bảo tiếp_thu hiệu_quả</td>\n",
       "    </tr>\n",
       "    <tr>\n",
       "      <th>3</th>\n",
       "      <td>nội_dung giảng_dạy nhàm chán khô khan</td>\n",
       "      <td>nội_dung nhàm chán khô khan</td>\n",
       "    </tr>\n",
       "    <tr>\n",
       "      <th>4</th>\n",
       "      <td>thầy tận_tình đi dạy</td>\n",
       "      <td>tận_tình đi</td>\n",
       "    </tr>\n",
       "    <tr>\n",
       "      <th>...</th>\n",
       "      <td>...</td>\n",
       "      <td>...</td>\n",
       "    </tr>\n",
       "    <tr>\n",
       "      <th>16172</th>\n",
       "      <td>hướng_dẫn lab mơ_hồ</td>\n",
       "      <td>hướng_dẫn lab mơ_hồ</td>\n",
       "    </tr>\n",
       "    <tr>\n",
       "      <th>16173</th>\n",
       "      <td>thầy chúng_em bài_tập thực_hành thực_tiễn thực...</td>\n",
       "      <td>chúng_em thực_hành thực_tiễn thực_sự hài_lòng</td>\n",
       "    </tr>\n",
       "    <tr>\n",
       "      <th>16174</th>\n",
       "      <td>thầy không dạy chủ_yếu sinh_viên tìm_hiểu</td>\n",
       "      <td>không chủ_yếu tìm_hiểu</td>\n",
       "    </tr>\n",
       "    <tr>\n",
       "      <th>16175</th>\n",
       "      <td>thầy chưa giải_đáp chi_tiết thắc_mắc sinh_viên</td>\n",
       "      <td>chưa giải_đáp chi_tiết thắc_mắc</td>\n",
       "    </tr>\n",
       "    <tr>\n",
       "      <th>16176</th>\n",
       "      <td>thầy dạy chat gọi điện_thoại thường_xuyên</td>\n",
       "      <td>chat gọi điện_thoại thường_xuyên</td>\n",
       "    </tr>\n",
       "  </tbody>\n",
       "</table>\n",
       "<p>16175 rows × 2 columns</p>\n",
       "</div>"
      ],
      "text/plain": [
       "                                sent_clean_tokenize_nosw  \\\n",
       "0                nhiệt_tình giảng_dạy gần_gũi sinh_viên    \n",
       "1             không giúp_đỡ sinh_viên vấn_đề xung_quanh    \n",
       "2        thời_lượng học không đảm_bảo tiếp_thu hiệu_quả    \n",
       "3                 nội_dung giảng_dạy nhàm chán khô khan    \n",
       "4                                  thầy tận_tình đi dạy    \n",
       "...                                                  ...   \n",
       "16172                               hướng_dẫn lab mơ_hồ    \n",
       "16173  thầy chúng_em bài_tập thực_hành thực_tiễn thực...   \n",
       "16174         thầy không dạy chủ_yếu sinh_viên tìm_hiểu    \n",
       "16175    thầy chưa giải_đáp chi_tiết thắc_mắc sinh_viên    \n",
       "16176         thầy dạy chat gọi điện_thoại thường_xuyên    \n",
       "\n",
       "                     sent_clean_tokenize_nosw_nofreq  \n",
       "0                                 nhiệt_tình gần_gũi  \n",
       "1                    không giúp_đỡ vấn_đề xung_quanh  \n",
       "2         thời_lượng không đảm_bảo tiếp_thu hiệu_quả  \n",
       "3                        nội_dung nhàm chán khô khan  \n",
       "4                                        tận_tình đi  \n",
       "...                                              ...  \n",
       "16172                            hướng_dẫn lab mơ_hồ  \n",
       "16173  chúng_em thực_hành thực_tiễn thực_sự hài_lòng  \n",
       "16174                         không chủ_yếu tìm_hiểu  \n",
       "16175                chưa giải_đáp chi_tiết thắc_mắc  \n",
       "16176               chat gọi điện_thoại thường_xuyên  \n",
       "\n",
       "[16175 rows x 2 columns]"
      ]
     },
     "execution_count": 38,
     "metadata": {},
     "output_type": "execute_result"
    }
   ],
   "source": [
    "FREQWORDS = set([w for (w, wc) in cnt.most_common(20)])\n",
    "def remove_freqwords(text):\n",
    "    return \" \".join([word for word in str(text).split() if word not in FREQWORDS])\n",
    "X[\"sent_clean_tokenize_nosw_nofreq\"] = X[\"sent_clean_tokenize_nosw\"].apply(lambda text: remove_freqwords(text))\n",
    "X.iloc[:,-2:]"
   ]
  },
  {
   "cell_type": "markdown",
   "metadata": {
    "id": "pyCxyezoJcg7"
   },
   "source": [
    "##### Dữ liệu ban đầu và sau khi được xử lý"
   ]
  },
  {
   "cell_type": "code",
   "execution_count": 39,
   "metadata": {
    "id": "80OEDByBJcg7",
    "outputId": "ee3f3bfd-2eac-48f1-bdeb-97bb539207ec"
   },
   "outputs": [
    {
     "data": {
      "text/html": [
       "<div>\n",
       "<style scoped>\n",
       "    .dataframe tbody tr th:only-of-type {\n",
       "        vertical-align: middle;\n",
       "    }\n",
       "\n",
       "    .dataframe tbody tr th {\n",
       "        vertical-align: top;\n",
       "    }\n",
       "\n",
       "    .dataframe thead th {\n",
       "        text-align: right;\n",
       "    }\n",
       "</style>\n",
       "<table border=\"1\" class=\"dataframe\">\n",
       "  <thead>\n",
       "    <tr style=\"text-align: right;\">\n",
       "      <th></th>\n",
       "      <th>sent</th>\n",
       "      <th>sent_clean_tokenize_nosw_nofreq</th>\n",
       "    </tr>\n",
       "  </thead>\n",
       "  <tbody>\n",
       "    <tr>\n",
       "      <th>0</th>\n",
       "      <td>nhiệt tình giảng dạy , gần gũi với sinh viên .</td>\n",
       "      <td>nhiệt_tình gần_gũi</td>\n",
       "    </tr>\n",
       "    <tr>\n",
       "      <th>1</th>\n",
       "      <td>không giúp đỡ sinh viên trong những vấn đề xun...</td>\n",
       "      <td>không giúp_đỡ vấn_đề xung_quanh</td>\n",
       "    </tr>\n",
       "    <tr>\n",
       "      <th>2</th>\n",
       "      <td>thời lượng học quá dài , không đảm bảo tiếp th...</td>\n",
       "      <td>thời_lượng không đảm_bảo tiếp_thu hiệu_quả</td>\n",
       "    </tr>\n",
       "    <tr>\n",
       "      <th>3</th>\n",
       "      <td>nội dung giảng dạy quá nhàm chán , khô khan .</td>\n",
       "      <td>nội_dung nhàm chán khô khan</td>\n",
       "    </tr>\n",
       "    <tr>\n",
       "      <th>4</th>\n",
       "      <td>thầy rất tận tình và đi dạy rất đúng giờ .</td>\n",
       "      <td>tận_tình đi</td>\n",
       "    </tr>\n",
       "    <tr>\n",
       "      <th>...</th>\n",
       "      <td>...</td>\n",
       "      <td>...</td>\n",
       "    </tr>\n",
       "    <tr>\n",
       "      <th>16172</th>\n",
       "      <td>hướng dẫn lab mơ hồ .</td>\n",
       "      <td>hướng_dẫn lab mơ_hồ</td>\n",
       "    </tr>\n",
       "    <tr>\n",
       "      <th>16173</th>\n",
       "      <td>thầy cho chúng em những bài tập mang tính thực...</td>\n",
       "      <td>chúng_em thực_hành thực_tiễn thực_sự hài_lòng</td>\n",
       "    </tr>\n",
       "    <tr>\n",
       "      <th>16174</th>\n",
       "      <td>thầy không dạy nhiều chủ yếu cho sinh viên tự ...</td>\n",
       "      <td>không chủ_yếu tìm_hiểu</td>\n",
       "    </tr>\n",
       "    <tr>\n",
       "      <th>16175</th>\n",
       "      <td>thầy chưa giải đáp thật chi tiết thắc mắc của ...</td>\n",
       "      <td>chưa giải_đáp chi_tiết thắc_mắc</td>\n",
       "    </tr>\n",
       "    <tr>\n",
       "      <th>16176</th>\n",
       "      <td>thầy vừa dạy vừa chat hoặc gọi điện thoại thườ...</td>\n",
       "      <td>chat gọi điện_thoại thường_xuyên</td>\n",
       "    </tr>\n",
       "  </tbody>\n",
       "</table>\n",
       "<p>16175 rows × 2 columns</p>\n",
       "</div>"
      ],
      "text/plain": [
       "                                                    sent  \\\n",
       "0         nhiệt tình giảng dạy , gần gũi với sinh viên .   \n",
       "1      không giúp đỡ sinh viên trong những vấn đề xun...   \n",
       "2      thời lượng học quá dài , không đảm bảo tiếp th...   \n",
       "3          nội dung giảng dạy quá nhàm chán , khô khan .   \n",
       "4             thầy rất tận tình và đi dạy rất đúng giờ .   \n",
       "...                                                  ...   \n",
       "16172                              hướng dẫn lab mơ hồ .   \n",
       "16173  thầy cho chúng em những bài tập mang tính thực...   \n",
       "16174  thầy không dạy nhiều chủ yếu cho sinh viên tự ...   \n",
       "16175  thầy chưa giải đáp thật chi tiết thắc mắc của ...   \n",
       "16176  thầy vừa dạy vừa chat hoặc gọi điện thoại thườ...   \n",
       "\n",
       "                     sent_clean_tokenize_nosw_nofreq  \n",
       "0                                 nhiệt_tình gần_gũi  \n",
       "1                    không giúp_đỡ vấn_đề xung_quanh  \n",
       "2         thời_lượng không đảm_bảo tiếp_thu hiệu_quả  \n",
       "3                        nội_dung nhàm chán khô khan  \n",
       "4                                        tận_tình đi  \n",
       "...                                              ...  \n",
       "16172                            hướng_dẫn lab mơ_hồ  \n",
       "16173  chúng_em thực_hành thực_tiễn thực_sự hài_lòng  \n",
       "16174                         không chủ_yếu tìm_hiểu  \n",
       "16175                chưa giải_đáp chi_tiết thắc_mắc  \n",
       "16176               chat gọi điện_thoại thường_xuyên  \n",
       "\n",
       "[16175 rows x 2 columns]"
      ]
     },
     "execution_count": 39,
     "metadata": {},
     "output_type": "execute_result"
    }
   ],
   "source": [
    "X[['sent', X.columns[-1]]]"
   ]
  },
  {
   "cell_type": "markdown",
   "metadata": {
    "id": "eCBNGaV8Jcg7"
   },
   "source": [
    "## 5. Mã hóa dữ liệu"
   ]
  },
  {
   "cell_type": "markdown",
   "metadata": {},
   "source": [
    "### 5.1 Mã hóa y"
   ]
  },
  {
   "cell_type": "code",
   "execution_count": 40,
   "metadata": {
    "id": "2L9Cr8L_Jcg7",
    "outputId": "4b971028-76be-4b13-fa6c-da05fa87f4be"
   },
   "outputs": [
    {
     "data": {
      "text/plain": [
       "array([2, 0, 0, ..., 0, 0, 0])"
      ]
     },
     "execution_count": 40,
     "metadata": {},
     "output_type": "execute_result"
    }
   ],
   "source": [
    "le = LabelEncoder()\n",
    "y = le.fit_transform(y)\n",
    "y"
   ]
  },
  {
   "cell_type": "markdown",
   "metadata": {
    "id": "b3DyD-VEJcg7"
   },
   "source": [
    "### 5.2 Vector hóa X với CountVectorizer"
   ]
  },
  {
   "cell_type": "code",
   "execution_count": 41,
   "metadata": {
    "id": "8xv6CAsUJcg7"
   },
   "outputs": [],
   "source": [
    "cv = CountVectorizer()\n",
    "X_counts_vec = cv.fit_transform(X.iloc[:,-1])"
   ]
  },
  {
   "cell_type": "markdown",
   "metadata": {
    "id": "T5_8XYfZJcg7"
   },
   "source": [
    "### 5.3 Vector hóa X với TfidfVectorizer"
   ]
  },
  {
   "cell_type": "code",
   "execution_count": 42,
   "metadata": {
    "id": "Vc7OzgqDJcg7"
   },
   "outputs": [],
   "source": [
    "tfidf = TfidfVectorizer()\n",
    "X_tfidf_vec = tfidf.fit_transform(X.iloc[:,-1])"
   ]
  },
  {
   "cell_type": "markdown",
   "metadata": {
    "id": "Ud31l7zfJcg7"
   },
   "source": [
    "# VI. Train model"
   ]
  },
  {
   "cell_type": "markdown",
   "metadata": {
    "id": "SmQNWXvjJcg7"
   },
   "source": [
    "## 1. Train model dùng CountVectorizer"
   ]
  },
  {
   "cell_type": "code",
   "execution_count": 43,
   "metadata": {
    "id": "rnPYduauJcg7",
    "outputId": "d60bec39-9ad4-4e27-aeef-2f43a3b3a076"
   },
   "outputs": [],
   "source": [
    "X_train, X_test, y_train, y_test = train_test_split(X_counts_vec, y, test_size=0.3,random_state=10)"
   ]
  },
  {
   "cell_type": "code",
   "execution_count": 44,
   "metadata": {
    "id": "DPNs02r5Jcg7",
    "outputId": "704270f2-f8d8-4505-aa88-cdfa90eee15f"
   },
   "outputs": [
    {
     "name": "stdout",
     "output_type": "stream",
     "text": [
      "MultinomialNB model accuracy is 82.36%\n",
      "------------------------------------------------\n",
      "Confusion Matrix:\n",
      "      0   1     2\n",
      "0  1909  23   344\n",
      "1   115   8    70\n",
      "2   296   8  2080\n",
      "------------------------------------------------\n",
      "Classification Report:\n",
      "              precision    recall  f1-score   support\n",
      "\n",
      "           0       0.82      0.84      0.83      2276\n",
      "           1       0.21      0.04      0.07       193\n",
      "           2       0.83      0.87      0.85      2384\n",
      "\n",
      "    accuracy                           0.82      4853\n",
      "   macro avg       0.62      0.58      0.58      4853\n",
      "weighted avg       0.80      0.82      0.81      4853\n",
      "\n"
     ]
    }
   ],
   "source": [
    "MNB = MultinomialNB()\n",
    "MNB.fit(X_train, y_train)\n",
    "predicted = MNB.predict(X_test)\n",
    "accuracy_score = metrics.accuracy_score(predicted, y_test)\n",
    "\n",
    "print('MultinomialNB model accuracy is',str('{:04.2f}'.format(accuracy_score*100))+'%')\n",
    "print('------------------------------------------------')\n",
    "print('Confusion Matrix:')\n",
    "print(pd.DataFrame(confusion_matrix(y_test, predicted)))\n",
    "print('------------------------------------------------')\n",
    "print('Classification Report:')\n",
    "print(classification_report(y_test, predicted))"
   ]
  },
  {
   "cell_type": "code",
   "execution_count": 45,
   "metadata": {
    "id": "_qBay3J4Jcg_",
    "outputId": "4b3b7275-61a7-4459-c413-468bd04e2afd"
   },
   "outputs": [
    {
     "data": {
      "text/plain": [
       "Text(0.5, 1.0, 'Naive Bayes CountVectorizer')"
      ]
     },
     "execution_count": 45,
     "metadata": {},
     "output_type": "execute_result"
    },
    {
     "data": {
      "image/png": "[encoded data removed]",
      "text/plain": [
       "<Figure size 640x480 with 2 Axes>"
      ]
     },
     "metadata": {},
     "output_type": "display_data"
    }
   ],
   "source": [
    "sns.heatmap(pd.DataFrame(confusion_matrix(y_test, predicted)), cmap='Blues', annot=True,fmt='g')\n",
    "plt.title('Naive Bayes CountVectorizer')"
   ]
  },
  {
   "cell_type": "markdown",
   "metadata": {
    "id": "duau9CUtJcg_"
   },
   "source": [
    "## 2. Train model dùng TfidfVectorizer"
   ]
  },
  {
   "cell_type": "code",
   "execution_count": 46,
   "metadata": {
    "id": "IbPkOmxMJcg_"
   },
   "outputs": [],
   "source": [
    "X_train, X_test, y_train, y_test = train_test_split(X_tfidf_vec, y, test_size=0.3,random_state=10)"
   ]
  },
  {
   "cell_type": "code",
   "execution_count": 47,
   "metadata": {
    "id": "1sK42Qj9JchA",
    "outputId": "8aea4e2c-950d-4891-f982-cbd40a7d5c43"
   },
   "outputs": [
    {
     "name": "stdout",
     "output_type": "stream",
     "text": [
      "MultinomialNB model accuracy is 82.53%\n",
      "------------------------------------------------\n",
      "Confusion Matrix:\n",
      "      0  1     2\n",
      "0  1932  0   344\n",
      "1   114  2    77\n",
      "2   313  0  2071\n",
      "------------------------------------------------\n",
      "Classification Report:\n",
      "              precision    recall  f1-score   support\n",
      "\n",
      "           0       0.82      0.85      0.83      2276\n",
      "           1       1.00      0.01      0.02       193\n",
      "           2       0.83      0.87      0.85      2384\n",
      "\n",
      "    accuracy                           0.83      4853\n",
      "   macro avg       0.88      0.58      0.57      4853\n",
      "weighted avg       0.83      0.83      0.81      4853\n",
      "\n"
     ]
    }
   ],
   "source": [
    "MNB = MultinomialNB()\n",
    "MNB.fit(X_train, y_train)\n",
    "predicted = MNB.predict(X_test)\n",
    "accuracy_score = metrics.accuracy_score(predicted, y_test)\n",
    "\n",
    "print('MultinomialNB model accuracy is',str('{:04.2f}'.format(accuracy_score*100))+'%')\n",
    "print('------------------------------------------------')\n",
    "print('Confusion Matrix:')\n",
    "print(pd.DataFrame(confusion_matrix(y_test, predicted)))\n",
    "print('------------------------------------------------')\n",
    "print('Classification Report:')\n",
    "print(classification_report(y_test, predicted))"
   ]
  },
  {
   "cell_type": "code",
   "execution_count": 48,
   "metadata": {
    "id": "dU0ICuefJchA",
    "outputId": "4114e99c-a274-4459-de20-a2865cd341dd"
   },
   "outputs": [
    {
     "data": {
      "text/plain": [
       "Text(0.5, 1.0, 'Naive Bayes TfidfVectorizer')"
      ]
     },
     "execution_count": 48,
     "metadata": {},
     "output_type": "execute_result"
    },
    {
     "data": {
      "image/png": "[encoded data removed]",
      "text/plain": [
       "<Figure size 640x480 with 2 Axes>"
      ]
     },
     "metadata": {},
     "output_type": "display_data"
    }
   ],
   "source": [
    "sns.heatmap(pd.DataFrame(confusion_matrix(y_test, predicted)), cmap='Blues', annot=True,fmt='g')\n",
    "plt.title('Naive Bayes TfidfVectorizer')"
   ]
  },
  {
   "cell_type": "markdown",
   "metadata": {
    "id": "-2zFWgznJchA"
   },
   "source": [
    "# VII. So sánh với các mô hình khác"
   ]
  },
  {
   "cell_type": "code",
   "execution_count": 49,
   "metadata": {
    "id": "LqfIYym_JchA",
    "outputId": "edb4adc5-6ea1-4c96-c5f4-2a1a36ffc142",
    "scrolled": true
   },
   "outputs": [
    {
     "name": "stdout",
     "output_type": "stream",
     "text": [
      "-----LogisticRegression-----\n",
      "Model accuracy is 84.13%\n",
      "------------------------------------------------\n",
      "Confusion Matrix:\n",
      "      0   1     2\n",
      "0  2020   7   249\n",
      "1   120  14    59\n",
      "2   324  11  2049\n",
      "------------------------------------------------\n",
      "Classification Report:\n",
      "              precision    recall  f1-score   support\n",
      "\n",
      "           0       0.82      0.89      0.85      2276\n",
      "           1       0.44      0.07      0.12       193\n",
      "           2       0.87      0.86      0.86      2384\n",
      "\n",
      "    accuracy                           0.84      4853\n",
      "   macro avg       0.71      0.61      0.61      4853\n",
      "weighted avg       0.83      0.84      0.83      4853\n",
      "\n",
      "-----KNeighborsClassifier-----\n",
      "Model accuracy is 65.65%\n",
      "------------------------------------------------\n",
      "Confusion Matrix:\n",
      "      0   1     2\n",
      "0  1040  46  1190\n",
      "1    58  32   103\n",
      "2   229  41  2114\n",
      "------------------------------------------------\n",
      "Classification Report:\n",
      "              precision    recall  f1-score   support\n",
      "\n",
      "           0       0.78      0.46      0.58      2276\n",
      "           1       0.27      0.17      0.21       193\n",
      "           2       0.62      0.89      0.73      2384\n",
      "\n",
      "    accuracy                           0.66      4853\n",
      "   macro avg       0.56      0.50      0.50      4853\n",
      "weighted avg       0.68      0.66      0.64      4853\n",
      "\n",
      "-----SupportVectorMachines-----\n",
      "Model accuracy is 84.48%\n",
      "------------------------------------------------\n",
      "Confusion Matrix:\n",
      "      0   1     2\n",
      "0  2051   5   220\n",
      "1   119  18    56\n",
      "2   339  14  2031\n",
      "------------------------------------------------\n",
      "Classification Report:\n",
      "              precision    recall  f1-score   support\n",
      "\n",
      "           0       0.82      0.90      0.86      2276\n",
      "           1       0.49      0.09      0.16       193\n",
      "           2       0.88      0.85      0.87      2384\n",
      "\n",
      "    accuracy                           0.84      4853\n",
      "   macro avg       0.73      0.62      0.63      4853\n",
      "weighted avg       0.84      0.84      0.83      4853\n",
      "\n",
      "-----Decision Trees-----\n",
      "Model accuracy is 79.70%\n",
      "------------------------------------------------\n",
      "Confusion Matrix:\n",
      "      0   1     2\n",
      "0  1931  53   292\n",
      "1   113  27    53\n",
      "2   430  44  1910\n",
      "------------------------------------------------\n",
      "Classification Report:\n",
      "              precision    recall  f1-score   support\n",
      "\n",
      "           0       0.78      0.85      0.81      2276\n",
      "           1       0.22      0.14      0.17       193\n",
      "           2       0.85      0.80      0.82      2384\n",
      "\n",
      "    accuracy                           0.80      4853\n",
      "   macro avg       0.62      0.60      0.60      4853\n",
      "weighted avg       0.79      0.80      0.79      4853\n",
      "\n",
      "-----RandomForestClassifier-----\n",
      "Model accuracy is 82.90%\n",
      "------------------------------------------------\n",
      "Confusion Matrix:\n",
      "      0   1     2\n",
      "0  2015  16   245\n",
      "1   111  28    54\n",
      "2   384  20  1980\n",
      "------------------------------------------------\n",
      "Classification Report:\n",
      "              precision    recall  f1-score   support\n",
      "\n",
      "           0       0.80      0.89      0.84      2276\n",
      "           1       0.44      0.15      0.22       193\n",
      "           2       0.87      0.83      0.85      2384\n",
      "\n",
      "    accuracy                           0.83      4853\n",
      "   macro avg       0.70      0.62      0.64      4853\n",
      "weighted avg       0.82      0.83      0.82      4853\n",
      "\n",
      "-----NaiveBayes-----\n",
      "Model accuracy is 82.53%\n",
      "------------------------------------------------\n",
      "Confusion Matrix:\n",
      "      0  1     2\n",
      "0  1932  0   344\n",
      "1   114  2    77\n",
      "2   313  0  2071\n",
      "------------------------------------------------\n",
      "Classification Report:\n",
      "              precision    recall  f1-score   support\n",
      "\n",
      "           0       0.82      0.85      0.83      2276\n",
      "           1       1.00      0.01      0.02       193\n",
      "           2       0.83      0.87      0.85      2384\n",
      "\n",
      "    accuracy                           0.83      4853\n",
      "   macro avg       0.88      0.58      0.57      4853\n",
      "weighted avg       0.83      0.83      0.81      4853\n",
      "\n",
      "-----AdaBoostClassifier-----\n",
      "Model accuracy is 77.79%\n",
      "------------------------------------------------\n",
      "Confusion Matrix:\n",
      "      0   1     2\n",
      "0  2081   5   190\n",
      "1   159  11    23\n",
      "2   691  10  1683\n",
      "------------------------------------------------\n",
      "Classification Report:\n",
      "              precision    recall  f1-score   support\n",
      "\n",
      "           0       0.71      0.91      0.80      2276\n",
      "           1       0.42      0.06      0.10       193\n",
      "           2       0.89      0.71      0.79      2384\n",
      "\n",
      "    accuracy                           0.78      4853\n",
      "   macro avg       0.67      0.56      0.56      4853\n",
      "weighted avg       0.79      0.78      0.77      4853\n",
      "\n",
      "-----GradientBoostingClassifier-----\n",
      "Model accuracy is 78.76%\n",
      "------------------------------------------------\n",
      "Confusion Matrix:\n",
      "      0   1     2\n",
      "0  1656   3   617\n",
      "1    71  16   106\n",
      "2   226   8  2150\n",
      "------------------------------------------------\n",
      "Classification Report:\n",
      "              precision    recall  f1-score   support\n",
      "\n",
      "           0       0.85      0.73      0.78      2276\n",
      "           1       0.59      0.08      0.15       193\n",
      "           2       0.75      0.90      0.82      2384\n",
      "\n",
      "    accuracy                           0.79      4853\n",
      "   macro avg       0.73      0.57      0.58      4853\n",
      "weighted avg       0.79      0.79      0.77      4853\n",
      "\n",
      "[LightGBM] [Info] Auto-choosing row-wise multi-threading, the overhead of testing was 0.004985 seconds.\n",
      "You can set `force_row_wise=true` to remove the overhead.\n",
      "And if memory is not enough, you can set `force_col_wise=true`.\n",
      "[LightGBM] [Info] Total Bins 10655\n",
      "[LightGBM] [Info] Number of data points in the train set: 11322, number of used features: 356\n",
      "[LightGBM] [Info] Start training from score -0.785230\n",
      "[LightGBM] [Info] Start training from score -3.109945\n",
      "[LightGBM] [Info] Start training from score -0.694384\n",
      "-----LightGBMClassifier-----\n",
      "Model accuracy is 81.83%\n",
      "------------------------------------------------\n",
      "Confusion Matrix:\n",
      "      0   1     2\n",
      "0  1863  17   396\n",
      "1    93  23    77\n",
      "2   285  14  2085\n",
      "------------------------------------------------\n",
      "Classification Report:\n",
      "              precision    recall  f1-score   support\n",
      "\n",
      "           0       0.83      0.82      0.82      2276\n",
      "           1       0.43      0.12      0.19       193\n",
      "           2       0.82      0.87      0.84      2384\n",
      "\n",
      "    accuracy                           0.82      4853\n",
      "   macro avg       0.69      0.60      0.62      4853\n",
      "weighted avg       0.81      0.82      0.81      4853\n",
      "\n",
      "-----XGBoost-----\n",
      "Model accuracy is 81.72%\n",
      "------------------------------------------------\n",
      "Confusion Matrix:\n",
      "      0   1     2\n",
      "0  1818  11   447\n",
      "1    84  20    89\n",
      "2   246  10  2128\n",
      "------------------------------------------------\n",
      "Classification Report:\n",
      "              precision    recall  f1-score   support\n",
      "\n",
      "           0       0.85      0.80      0.82      2276\n",
      "           1       0.49      0.10      0.17       193\n",
      "           2       0.80      0.89      0.84      2384\n",
      "\n",
      "    accuracy                           0.82      4853\n",
      "   macro avg       0.71      0.60      0.61      4853\n",
      "weighted avg       0.81      0.82      0.81      4853\n",
      "\n"
     ]
    }
   ],
   "source": [
    "models = {\n",
    "    'LogisticRegression': LogisticRegression(),\n",
    "    'KNeighborsClassifier': KNeighborsClassifier(),\n",
    "    'SupportVectorMachines': svm.SVC(),\n",
    "    'Decision Trees': DecisionTreeClassifier(),\n",
    "    'RandomForestClassifier': RandomForestClassifier(),\n",
    "    'NaiveBayes': MultinomialNB(),\n",
    "    'AdaBoostClassifier': AdaBoostClassifier(),\n",
    "    'GradientBoostingClassifier': GradientBoostingClassifier(),\n",
    "    'LightGBMClassifier': LGBMClassifier(),\n",
    "    'XGBoost': XGBClassifier()\n",
    "}\n",
    "confusion_matrixs = []\n",
    "accuracy_score_table = {'accuracy_score':[]}\n",
    "for model_name, model_instance in models.items():\n",
    "    model_instance.fit(X_train, y_train)\n",
    "    predicted = model_instance.predict(X_test)\n",
    "    accuracy_score = metrics.accuracy_score(predicted, y_test)\n",
    "    accuracy_score_table['accuracy_score'].append(accuracy_score)\n",
    "    print(f\"-----{model_name}-----\")\n",
    "    print('Model accuracy is',str('{:04.2f}'.format(accuracy_score*100))+'%')\n",
    "    print('------------------------------------------------')\n",
    "    print('Confusion Matrix:')\n",
    "    print(pd.DataFrame(confusion_matrix(y_test, predicted)))\n",
    "    confusion_matrixs.append(pd.DataFrame(confusion_matrix(y_test, predicted)))\n",
    "    print('------------------------------------------------')\n",
    "    print('Classification Report:')\n",
    "    print(classification_report(y_test, predicted))\n"
   ]
  },
  {
   "cell_type": "code",
   "execution_count": 50,
   "metadata": {
    "id": "D12a_WocJchA"
   },
   "outputs": [],
   "source": [
    "model_names = {'model_name':[]}\n",
    "for model_name, model_instance in models.items():\n",
    "    model_names['model_name'].append(model_name)"
   ]
  },
  {
   "cell_type": "code",
   "execution_count": 51,
   "metadata": {
    "id": "Nc7B4CDcJchA"
   },
   "outputs": [],
   "source": [
    "model_names=pd.DataFrame(model_names)\n",
    "model_accury=pd.DataFrame(accuracy_score_table)"
   ]
  },
  {
   "cell_type": "code",
   "execution_count": 52,
   "metadata": {
    "id": "uWmjMi2wJchA",
    "outputId": "9dcc1662-33c0-4e30-cd16-75d62ad816b1"
   },
   "outputs": [
    {
     "data": {
      "text/html": [
       "<div>\n",
       "<style scoped>\n",
       "    .dataframe tbody tr th:only-of-type {\n",
       "        vertical-align: middle;\n",
       "    }\n",
       "\n",
       "    .dataframe tbody tr th {\n",
       "        vertical-align: top;\n",
       "    }\n",
       "\n",
       "    .dataframe thead th {\n",
       "        text-align: right;\n",
       "    }\n",
       "</style>\n",
       "<table border=\"1\" class=\"dataframe\">\n",
       "  <thead>\n",
       "    <tr style=\"text-align: right;\">\n",
       "      <th></th>\n",
       "      <th>Model</th>\n",
       "      <th>Accuracy score (%)</th>\n",
       "    </tr>\n",
       "  </thead>\n",
       "  <tbody>\n",
       "    <tr>\n",
       "      <th>0</th>\n",
       "      <td>LogisticRegression</td>\n",
       "      <td>0.8413</td>\n",
       "    </tr>\n",
       "    <tr>\n",
       "      <th>1</th>\n",
       "      <td>KNeighborsClassifier</td>\n",
       "      <td>0.6565</td>\n",
       "    </tr>\n",
       "    <tr>\n",
       "      <th>2</th>\n",
       "      <td>SupportVectorMachines</td>\n",
       "      <td>0.8448</td>\n",
       "    </tr>\n",
       "    <tr>\n",
       "      <th>3</th>\n",
       "      <td>Decision Trees</td>\n",
       "      <td>0.7970</td>\n",
       "    </tr>\n",
       "    <tr>\n",
       "      <th>4</th>\n",
       "      <td>RandomForestClassifier</td>\n",
       "      <td>0.8290</td>\n",
       "    </tr>\n",
       "    <tr>\n",
       "      <th>5</th>\n",
       "      <td>NaiveBayes</td>\n",
       "      <td>0.8253</td>\n",
       "    </tr>\n",
       "    <tr>\n",
       "      <th>6</th>\n",
       "      <td>AdaBoostClassifier</td>\n",
       "      <td>0.7779</td>\n",
       "    </tr>\n",
       "    <tr>\n",
       "      <th>7</th>\n",
       "      <td>GradientBoostingClassifier</td>\n",
       "      <td>0.7876</td>\n",
       "    </tr>\n",
       "    <tr>\n",
       "      <th>8</th>\n",
       "      <td>LightGBMClassifier</td>\n",
       "      <td>0.8183</td>\n",
       "    </tr>\n",
       "    <tr>\n",
       "      <th>9</th>\n",
       "      <td>XGBoost</td>\n",
       "      <td>0.8172</td>\n",
       "    </tr>\n",
       "  </tbody>\n",
       "</table>\n",
       "</div>"
      ],
      "text/plain": [
       "                        Model  Accuracy score (%)\n",
       "0          LogisticRegression              0.8413\n",
       "1        KNeighborsClassifier              0.6565\n",
       "2       SupportVectorMachines              0.8448\n",
       "3              Decision Trees              0.7970\n",
       "4      RandomForestClassifier              0.8290\n",
       "5                  NaiveBayes              0.8253\n",
       "6          AdaBoostClassifier              0.7779\n",
       "7  GradientBoostingClassifier              0.7876\n",
       "8          LightGBMClassifier              0.8183\n",
       "9                     XGBoost              0.8172"
      ]
     },
     "execution_count": 52,
     "metadata": {},
     "output_type": "execute_result"
    }
   ],
   "source": [
    "comparison_table = pd.concat([model_names, model_accury],axis=1)\n",
    "comparison_table.columns=['Model', 'Accuracy score (%)']\n",
    "comparison_table['Accuracy score (%)']=comparison_table['Accuracy score (%)'].apply(lambda x: round(x,4))\n",
    "comparison_table"
   ]
  },
  {
   "cell_type": "code",
   "execution_count": 53,
   "metadata": {
    "id": "TvxNNn14JchA"
   },
   "outputs": [],
   "source": [
    "def plot_conf_mat(ax, i, k):\n",
    "    ax_i = ax[i]\n",
    "    sns.heatmap(pd.DataFrame(confusion_matrixs[k]), annot=True, cmap=\"YlGnBu\" ,fmt='g', ax=ax_i)\n",
    "    ax_i.xaxis.set_label_position(\"bottom\")\n",
    "    ax_i.set_title(model_names.model_name[k])\n",
    "    ax_i.set_ylabel('Actual label')\n",
    "    ax_i.set_xlabel('Predicted label')\n",
    "    plt.tight_layout()\n",
    "n_rows = 1\n",
    "n_cols = 2\n",
    "size = 5\n",
    "k=-1"
   ]
  },
  {
   "cell_type": "code",
   "execution_count": 54,
   "metadata": {
    "id": "xYZ6YCXKJchB",
    "outputId": "4b2cc762-4ee3-4787-d5e7-363395ad7866"
   },
   "outputs": [
    {
     "data": {
      "image/png": "[encoded data removed]",
      "text/plain": [
       "<Figure size 1000x500 with 4 Axes>"
      ]
     },
     "metadata": {},
     "output_type": "display_data"
    }
   ],
   "source": [
    "fig, ax = plt.subplots(n_rows,n_cols,figsize=(n_cols*size,n_rows*size))\n",
    "for i in range(0,n_cols):\n",
    "    k+=1\n",
    "    if k<11:\n",
    "        plot_conf_mat(ax, i, k)"
   ]
  },
  {
   "cell_type": "code",
   "execution_count": 55,
   "metadata": {
    "id": "Dg0sy9MJJchB",
    "outputId": "ecaefa88-aa7a-4d47-83d8-ed4e7cadefa8"
   },
   "outputs": [
    {
     "data": {
      "image/png": "[encoded data removed]",
      "text/plain": [
       "<Figure size 1000x500 with 4 Axes>"
      ]
     },
     "metadata": {},
     "output_type": "display_data"
    }
   ],
   "source": [
    "fig, ax = plt.subplots(n_rows,n_cols,figsize=(n_cols*size,n_rows*size))\n",
    "for i in range(0,n_cols):\n",
    "    k+=1\n",
    "    if k<11:\n",
    "        plot_conf_mat(ax, i, k)"
   ]
  },
  {
   "cell_type": "code",
   "execution_count": 56,
   "metadata": {
    "id": "cv5ROc8xJchB",
    "outputId": "0c14fe9f-e0c3-494d-ab05-237557385263"
   },
   "outputs": [
    {
     "data": {
      "image/png": "[encoded data removed]",
      "text/plain": [
       "<Figure size 1000x500 with 4 Axes>"
      ]
     },
     "metadata": {},
     "output_type": "display_data"
    }
   ],
   "source": [
    "fig, ax = plt.subplots(n_rows,n_cols,figsize=(n_cols*size,n_rows*size))\n",
    "for i in range(0,n_cols):\n",
    "    k+=1\n",
    "    if k<11:\n",
    "        plot_conf_mat(ax, i, k)"
   ]
  },
  {
   "cell_type": "code",
   "execution_count": 57,
   "metadata": {
    "id": "Jtz9hC7zJchB",
    "outputId": "8bb21312-24e6-430d-fcbd-3334e218067b"
   },
   "outputs": [
    {
     "data": {
      "image/png": "[encoded data removed]",
      "text/plain": [
       "<Figure size 1000x500 with 4 Axes>"
      ]
     },
     "metadata": {},
     "output_type": "display_data"
    }
   ],
   "source": [
    "fig, ax = plt.subplots(n_rows,n_cols,figsize=(n_cols*size,n_rows*size))\n",
    "for i in range(0,n_cols):\n",
    "    k+=1\n",
    "    if k<11:\n",
    "        plot_conf_mat(ax, i, k)"
   ]
  },
  {
   "cell_type": "code",
   "execution_count": 58,
   "metadata": {
    "id": "n_oGPdslJchB"
   },
   "outputs": [
    {
     "data": {
      "image/png": "[encoded data removed]",
      "text/plain": [
       "<Figure size 1000x500 with 4 Axes>"
      ]
     },
     "metadata": {},
     "output_type": "display_data"
    }
   ],
   "source": [
    "fig, ax = plt.subplots(n_rows,n_cols,figsize=(n_cols*size,n_rows*size))\n",
    "for i in range(0,n_cols):\n",
    "    k+=1\n",
    "    if k<11:\n",
    "        plot_conf_mat(ax, i, k)"
   ]
  },
  {
   "cell_type": "code",
   "execution_count": null,
   "metadata": {
    "id": "j4BYpYYKJchB"
   },
   "outputs": [],
   "source": []
  },
  {
   "cell_type": "markdown",
   "metadata": {
    "id": "5wTYo0D-JchB"
   },
   "source": [
    "# VIII. Kiểm tra từng từ"
   ]
  },
  {
   "cell_type": "code",
   "execution_count": 59,
   "metadata": {
    "id": "b3HuySxJJchC"
   },
   "outputs": [
    {
     "data": {
      "text/html": [
       "<div>\n",
       "<style scoped>\n",
       "    .dataframe tbody tr th:only-of-type {\n",
       "        vertical-align: middle;\n",
       "    }\n",
       "\n",
       "    .dataframe tbody tr th {\n",
       "        vertical-align: top;\n",
       "    }\n",
       "\n",
       "    .dataframe thead th {\n",
       "        text-align: right;\n",
       "    }\n",
       "</style>\n",
       "<table border=\"1\" class=\"dataframe\">\n",
       "  <thead>\n",
       "    <tr style=\"text-align: right;\">\n",
       "      <th></th>\n",
       "      <th>sent</th>\n",
       "      <th>sent_clean</th>\n",
       "      <th>sent_clean_tokenize</th>\n",
       "      <th>sent_clean_tokenize_nosw</th>\n",
       "      <th>sent_clean_tokenize_nosw_nofreq</th>\n",
       "    </tr>\n",
       "  </thead>\n",
       "  <tbody>\n",
       "    <tr>\n",
       "      <th>0</th>\n",
       "      <td>giảng viên chửi mắng sinh viên</td>\n",
       "      <td>giảng viên chửi mắng sinh viên</td>\n",
       "      <td>giảng_viên chửi mắng sinh_viên</td>\n",
       "      <td>giảng_viên chửi mắng sinh_viên</td>\n",
       "      <td>chửi mắng</td>\n",
       "    </tr>\n",
       "    <tr>\n",
       "      <th>1</th>\n",
       "      <td>giảng viên rất nhiệt tình</td>\n",
       "      <td>giảng viên rất nhiệt tình</td>\n",
       "      <td>giảng_viên rất nhiệt_tình</td>\n",
       "      <td>giảng_viên nhiệt_tình</td>\n",
       "      <td>nhiệt_tình</td>\n",
       "    </tr>\n",
       "  </tbody>\n",
       "</table>\n",
       "</div>"
      ],
      "text/plain": [
       "                             sent                      sent_clean  \\\n",
       "0  giảng viên chửi mắng sinh viên  giảng viên chửi mắng sinh viên   \n",
       "1       giảng viên rất nhiệt tình       giảng viên rất nhiệt tình   \n",
       "\n",
       "              sent_clean_tokenize        sent_clean_tokenize_nosw  \\\n",
       "0  giảng_viên chửi mắng sinh_viên  giảng_viên chửi mắng sinh_viên   \n",
       "1       giảng_viên rất nhiệt_tình           giảng_viên nhiệt_tình   \n",
       "\n",
       "  sent_clean_tokenize_nosw_nofreq  \n",
       "0                       chửi mắng  \n",
       "1                      nhiệt_tình  "
      ]
     },
     "execution_count": 59,
     "metadata": {},
     "output_type": "execute_result"
    }
   ],
   "source": [
    "test_data = pd.DataFrame([[\"giảng viên chửi mắng sinh viên\"], [\"giảng viên rất nhiệt tình\"]])\n",
    "test_data.columns = ['sent']\n",
    "test_data['sent_clean'] = test_data['sent'].apply(cleaning)\n",
    "test_data['sent_clean_tokenize']=test_data['sent_clean'].apply(lambda text: word_tokenize(text,format=\"text\"))\n",
    "test_data['sent_clean_tokenize_nosw']=test_data['sent_clean_tokenize'].apply(lambda x: ' '.join([word for word in x.split() if word not in (stop_words_vn)]))\n",
    "test_data[\"sent_clean_tokenize_nosw_nofreq\"] = test_data[\"sent_clean_tokenize_nosw\"].apply(lambda text: remove_freqwords(text))\n",
    "test_data"
   ]
  },
  {
   "cell_type": "code",
   "execution_count": 60,
   "metadata": {
    "id": "5L8ksN5IJchC"
   },
   "outputs": [
    {
     "data": {
      "text/html": [
       "<div>\n",
       "<style scoped>\n",
       "    .dataframe tbody tr th:only-of-type {\n",
       "        vertical-align: middle;\n",
       "    }\n",
       "\n",
       "    .dataframe tbody tr th {\n",
       "        vertical-align: top;\n",
       "    }\n",
       "\n",
       "    .dataframe thead th {\n",
       "        text-align: right;\n",
       "    }\n",
       "</style>\n",
       "<table border=\"1\" class=\"dataframe\">\n",
       "  <thead>\n",
       "    <tr style=\"text-align: right;\">\n",
       "      <th></th>\n",
       "      <th>sent</th>\n",
       "      <th>sentiment</th>\n",
       "    </tr>\n",
       "  </thead>\n",
       "  <tbody>\n",
       "    <tr>\n",
       "      <th>0</th>\n",
       "      <td>giảng viên chửi mắng sinh viên</td>\n",
       "      <td>tiêu cực</td>\n",
       "    </tr>\n",
       "    <tr>\n",
       "      <th>1</th>\n",
       "      <td>giảng viên rất nhiệt tình</td>\n",
       "      <td>tích cực</td>\n",
       "    </tr>\n",
       "  </tbody>\n",
       "</table>\n",
       "</div>"
      ],
      "text/plain": [
       "                             sent sentiment\n",
       "0  giảng viên chửi mắng sinh viên  tiêu cực\n",
       "1       giảng viên rất nhiệt tình  tích cực"
      ]
     },
     "execution_count": 60,
     "metadata": {},
     "output_type": "execute_result"
    }
   ],
   "source": [
    "test_X = cv.transform(test_data['sent_clean_tokenize_nosw_nofreq'])\n",
    "predicted = MNB.predict(test_X)\n",
    "predicted = pd.DataFrame(predicted)\n",
    "res = pd.concat([test_data['sent'], predicted[0].apply(lambda x: \"tích cực\" if int(x)==2 else \"tiêu cực\" if int(x)==0 else \"trung tính\")], axis=1)\n",
    "res.columns = ['sent', 'sentiment']\n",
    "res"
   ]
  }
 ],
 "metadata": {
  "colab": {
   "provenance": []
  },
  "kernelspec": {
   "display_name": "Python 3 (ipykernel)",
   "language": "python",
   "name": "python3"
  },
  "language_info": {
   "codemirror_mode": {
    "name": "ipython",
    "version": 3
   },
   "file_extension": ".py",
   "mimetype": "text/x-python",
   "name": "python",
   "nbconvert_exporter": "python",
   "pygments_lexer": "ipython3",
   "version": "3.11.5"
  }
 },
 "nbformat": 4,
 "nbformat_minor": 1
}
